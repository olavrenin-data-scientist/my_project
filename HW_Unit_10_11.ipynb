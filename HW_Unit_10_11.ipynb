{
 "cells": [
  {
   "cell_type": "markdown",
   "metadata": {},
   "source": [
    "## Week 10 and 11 Assignment - DATASCI200 Introduction to Data Science Programming, UC Berkeley MIDS\n",
    "\n",
    "Write code in this Jupyter Notebook to solve the following problems. Please upload this **Notebook** with your solutions to your GitHub repository and provide a link in the last question in gradescope. \n",
    "\n",
    "Assignment due date: 11:59PM PT the night before the Week 12 Live Session. Do **NOT** push/upload the data file. "
   ]
  },
  {
   "cell_type": "markdown",
   "metadata": {},
   "source": [
    "## Objectives\n",
    "\n",
    "- Explore and glean insights from a real dataset using pandas\n",
    "- Practice using pandas for exploratory analysis, information gathering, and discovery\n",
    "- Practice cleaning data and answering questions"
   ]
  },
  {
   "cell_type": "markdown",
   "metadata": {},
   "source": [
    "## General Guidelines:\n",
    "\n",
    "- This is a **real** dataset and so it may contain errors and other pecularities to work through\n",
    "- This dataset is ~218mb, which will take some time to load (and probably won't load in Google Sheets or Excel)\n",
    "- If you make assumptions, annotate them in your responses\n",
    "- While there is one code/markdown cell positioned after each question as a placeholder, some of your code/responses may require multiple cells\n",
    "- Double-click the markdown cells that say for example **1a answer here:** to enter your written answers. If you need more cells for your written answers, make them markdown cells (rather than code cells)\n",
    "- This homework assignment is not autograded because of the variety of responses one could give. \n",
    "  - Please upload this notebook to the autograder page and the TAs will manually grade it. \n",
    "  - Ensure that each cell is run and outputs your answer for ease of grading! \n",
    "  - Highly suggest to do a `restart & run all` before uploading your code to ensure everything runs and outputs correctly.\n",
    "  - Answers without code (or code that runs) will be given 0 points.\n",
    "- **This is meant to simulate real world data so you will have to do some external research to determine what some of the answers are!** "
   ]
  },
  {
   "cell_type": "markdown",
   "metadata": {},
   "source": [
    "## Dataset\n",
    "\n",
    "You are to analyze campaign contributions to the 2016 U.S. presidential primary races made in California. Use the csv file located here: https://drive.google.com/file/d/1Lgg-PwXQ6TQLDowd6XyBxZw5g1NGWPjB/view?usp=sharing. You should download and save this file in the same folder as this notebook is stored.  This file originally came from the U.S. Federal Election Commission (https://www.fec.gov/).\n",
    "\n",
    "**DO NOT PUSH THIS FILE TO YOUR GITHUB REPO!**\n",
    "\n",
    "- Best practice is to not have DATA files in your code repo. As shown below, the default load is outside of the folder this notebook is in. If you change the folder where the file is stored please update the first cell!\n",
    "- If you do accidentally push the file to your github repo - follow the directions here to fix it: https://docs.google.com/document/d/15Irgb5V5G7pKPWgAerH7FPMpKeQRunbNflaW-hR2hTA/edit?usp=sharing\n",
    "\n",
    "Documentation for this data can be found here: https://drive.google.com/file/d/11o_SByceenv0NgNMstM-dxC1jL7I9fHL/view?usp=sharing"
   ]
  },
  {
   "cell_type": "markdown",
   "metadata": {},
   "source": [
    "## Data Questions\n",
    "\n",
    "You are working for a California state-wide election campaign. Your boss wants you to examine historic 2016 election contribution data to see what zipcodes are more supportive of fundraising for your candidate. \n",
    "\n",
    "Your boss asks you to filter out some of the records:\n",
    "- Only use primary 2016 contribution data (more like how your race is).\n",
    "- Concentrate on Bernie Sanders as a candidate (most a like your candidate)\n",
    "\n",
    "The questions your boss wants answered is:\n",
    "- Which zipcode (5-digit zipcode) had the highest count of contributions and the most dollar amount?\n",
    "- What day(s) of the month do most people donate?"
   ]
  },
  {
   "cell_type": "markdown",
   "metadata": {},
   "source": [
    "## Setup\n",
    "\n",
    "Run the cell below as it will load the data into a pandas dataframe named `contrib`. Note that a custom date parser is defined to speed up loading. If Python were to guess the date format, it would take even longer to load."
   ]
  },
  {
   "cell_type": "code",
   "execution_count": 123,
   "metadata": {},
   "outputs": [
    {
     "name": "stderr",
     "output_type": "stream",
     "text": [
      "/var/folders/6q/dd_6hhkd2nd4q1pyp1nh1d140000gn/T/ipykernel_2703/4035942265.py:25: UserWarning: Could not infer format, so each element will be parsed individually, falling back to `dateutil`. To ensure parsing is consistent and as-expected, please specify a format.\n",
      "  contrib['contb_receipt_dt'] = pd.to_datetime(contrib['contb_receipt_dt'], errors='coerce')\n"
     ]
    },
    {
     "name": "stdout",
     "output_type": "stream",
     "text": [
      "Unique values in election_tp: ['P2016' 'G2016' nan 'P2020']\n",
      "Bernie primary records: (407171, 19)\n",
      "\n",
      " ZIP code with highest total contributions:\n",
      "           total_contributions  contribution_count\n",
      "zipcode_5                                         \n",
      "94110               294,061.13                4046\n",
      "\n",
      "  Most common donation days of the month:\n",
      "donation_day\n",
      "29    23508\n",
      "30    22899\n",
      "31    19486\n",
      "14    17793\n",
      "8     16774\n",
      "Name: count, dtype: int64\n"
     ]
    }
   ],
   "source": [
    "import pandas as pd\n",
    "import numpy as np\n",
    "from datetime import datetime\n",
    "\n",
    "# Set pandas display options\n",
    "pd.set_option('display.max_rows', 1000)\n",
    "pd.options.display.float_format = '{:,.2f}'.format\n",
    "\n",
    "# ✅ Define 19 columns to match your file (includes trailing comma)\n",
    "columns = [\n",
    "    'cmte_id', 'cand_id', 'cand_nm', 'contbr_nm', 'contbr_city', 'contbr_st',\n",
    "    'contbr_zip', 'contbr_employer', 'contbr_occupation', 'contb_receipt_amt',\n",
    "    'contb_receipt_dt', 'receipt_desc', 'memo_cd', 'memo_text',\n",
    "    'form_tp', 'file_num', 'tran_id', 'election_tp', 'extra_col'  # extra_col absorbs the extra comma\n",
    "]\n",
    "\n",
    "# ✅ Load the CSV with corrected column count\n",
    "contrib = pd.read_csv('P00000001-CA.csv', names=columns, header=0, engine='python')\n",
    "\n",
    "# Clean string columns\n",
    "contrib = contrib.apply(lambda x: x.str.strip() if x.dtype == \"object\" else x)\n",
    "\n",
    "# Convert date and amount\n",
    "contrib['contb_receipt_amt'] = pd.to_numeric(contrib['contb_receipt_amt'], errors='coerce')\n",
    "contrib['contb_receipt_dt'] = pd.to_datetime(contrib['contb_receipt_dt'], errors='coerce')\n",
    "\n",
    "# Check election_tp values\n",
    "print(\"Unique values in election_tp:\", contrib['election_tp'].unique())\n",
    "\n",
    "# Filter for Bernie Sanders and Primary 2016\n",
    "bernie = contrib[\n",
    "    (contrib['cand_nm'] == 'Sanders, Bernard') &\n",
    "    (contrib['election_tp'] == 'P2016')\n",
    "].copy()\n",
    "print(\"Bernie primary records:\", bernie.shape)\n",
    "\n",
    "# Clean and filter ZIP codes (California range)\n",
    "bernie['zipcode_5'] = bernie['contbr_zip'].astype(str).str.extract(r'(\\d{5})')\n",
    "bernie['zipcode_5'] = pd.to_numeric(bernie['zipcode_5'], errors='coerce')\n",
    "bernie = bernie[(bernie['zipcode_5'] >= 90001) & (bernie['zipcode_5'] <= 96162)]\n",
    "\n",
    "# Remove negative donations\n",
    "bernie = bernie[bernie['contb_receipt_amt'] >= 0]\n",
    "\n",
    "# Extract day of month\n",
    "bernie['donation_day'] = bernie['contb_receipt_dt'].dt.day\n",
    "\n",
    "# Top ZIP by contributions\n",
    "zip_summary = bernie.groupby('zipcode_5').agg(\n",
    "    total_contributions=('contb_receipt_amt', 'sum'),\n",
    "    contribution_count=('contb_receipt_amt', 'count')\n",
    ").sort_values(by='total_contributions', ascending=False)\n",
    "\n",
    "print(\"\\n ZIP code with highest total contributions:\")\n",
    "print(zip_summary.head(1))\n",
    "\n",
    "# Most common donation days\n",
    "donation_day_counts = bernie['donation_day'].value_counts().sort_values(ascending=False)\n",
    "\n",
    "print(\"\\n  Most common donation days of the month:\")\n",
    "print(donation_day_counts.head(5))\n"
   ]
  },
  {
   "cell_type": "markdown",
   "metadata": {},
   "source": [
    "***\n",
    "## 1. Initial Data Checks (50 points)\n",
    "\n",
    "First we will take a preliminary look at the data to check that it was loaded correctly and contains the info we need.\n",
    "\n",
    "The questions to answer at the end of this section:\n",
    "- Do we have the correct # of columns and rows. \n",
    "- Do the records contain data for the questions we want to answer \n",
    "- What columns are important? \n",
    "- What columns can be dropped?\n",
    "- What are the data problems?"
   ]
  },
  {
   "cell_type": "markdown",
   "metadata": {},
   "source": [
    "**1a.** Print the *shape* of the data. Does this match the expectation? (2 points)"
   ]
  },
  {
   "cell_type": "code",
   "execution_count": 104,
   "metadata": {
    "deletable": false,
    "nbgrader": {
     "checksum": "9f7a7938e43b14d3c7c49d6a278b0bb1",
     "grade": true,
     "grade_id": "cell-5d017805206f18b1",
     "locked": false,
     "points": 0,
     "schema_version": 1,
     "solution": true
    }
   },
   "outputs": [
    {
     "name": "stdout",
     "output_type": "stream",
     "text": [
      "(1125659, 19)\n"
     ]
    }
   ],
   "source": [
    "# 1a YOUR CODE HERE\n",
    "print(contrib.shape)"
   ]
  },
  {
   "cell_type": "markdown",
   "metadata": {},
   "source": [
    "- **1a answer here:** "
   ]
  },
  {
   "cell_type": "markdown",
   "metadata": {
    "deletable": false,
    "nbgrader": {
     "checksum": "e6a198453ec4b0171a064fef0bd7c678",
     "grade": true,
     "grade_id": "cell-3bc26919169bf4aa",
     "locked": false,
     "points": 5,
     "schema_version": 1,
     "solution": true
    }
   },
   "source": [
    "**1b.** Print a list of column names. Are all the columns included that are in the documentation? (2 points)"
   ]
  },
  {
   "cell_type": "code",
   "execution_count": 105,
   "metadata": {
    "deletable": false,
    "nbgrader": {
     "checksum": "4fbf682f1c78b3614832c6f48ecd88c7",
     "grade": true,
     "grade_id": "cell-72bc97601b84f17d",
     "locked": false,
     "points": 5,
     "schema_version": 1,
     "solution": true
    }
   },
   "outputs": [
    {
     "name": "stdout",
     "output_type": "stream",
     "text": [
      "['cmte_id', 'cand_id', 'cand_nm', 'contbr_nm', 'contbr_city', 'contbr_st', 'contbr_zip', 'contbr_employer', 'contbr_occupation', 'contb_receipt_amt', 'contb_receipt_dt', 'receipt_desc', 'memo_cd', 'memo_text', 'form_tp', 'file_num', 'tran_id', 'election_tp', 'extra_col']\n"
     ]
    }
   ],
   "source": [
    "# 1b YOUR CODE HERE\n",
    "print(contrib.columns.tolist())\n"
   ]
  },
  {
   "cell_type": "markdown",
   "metadata": {},
   "source": [
    "- **1b answer here:** "
   ]
  },
  {
   "cell_type": "markdown",
   "metadata": {},
   "source": [
    "**1c** Print out the first five rows of the dataset. How do the columns `cand_id`, `cand_nm` and `contbr_st` look? (3 points)"
   ]
  },
  {
   "cell_type": "code",
   "execution_count": 106,
   "metadata": {},
   "outputs": [
    {
     "name": "stdout",
     "output_type": "stream",
     "text": [
      "     cand_id                  cand_nm contbr_st\n",
      "0  P00003392  Clinton, Hillary Rodham        CA\n",
      "1  P00003392  Clinton, Hillary Rodham        CA\n",
      "2  P00003392  Clinton, Hillary Rodham        CA\n",
      "3  P60007168         Sanders, Bernard        CA\n",
      "4  P60007168         Sanders, Bernard        CA\n"
     ]
    }
   ],
   "source": [
    "# 1c YOUR CODE HERE\n",
    "print(contrib[['cand_id', 'cand_nm', 'contbr_st']].head())"
   ]
  },
  {
   "cell_type": "markdown",
   "metadata": {},
   "source": [
    "- **1c answer here:** "
   ]
  },
  {
   "cell_type": "markdown",
   "metadata": {
    "deletable": false,
    "nbgrader": {
     "checksum": "0ec29a2cabd52709322d1cfd650babe7",
     "grade": true,
     "grade_id": "cell-23b51536d24c1645",
     "locked": false,
     "points": 0,
     "schema_version": 1,
     "solution": true
    }
   },
   "source": [
    "**1d.** Print out the values for the column `election_tp`. In your own words, based on the documentation, what information does the `election_tp` variable contain? Do the values in the column match the documentation? (3 points)"
   ]
  },
  {
   "cell_type": "code",
   "execution_count": 107,
   "metadata": {},
   "outputs": [
    {
     "name": "stdout",
     "output_type": "stream",
     "text": [
      "0          P2016\n",
      "1          P2016\n",
      "2          P2016\n",
      "3          P2016\n",
      "4          P2016\n",
      "           ...  \n",
      "1125654    P2016\n",
      "1125655    P2016\n",
      "1125656    P2016\n",
      "1125657    P2016\n",
      "1125658    P2016\n",
      "Name: election_tp, Length: 1125659, dtype: object\n"
     ]
    }
   ],
   "source": [
    "# 1d YOUR CODE HERE\n",
    "print(contrib['election_tp'])"
   ]
  },
  {
   "cell_type": "markdown",
   "metadata": {
    "deletable": false,
    "nbgrader": {
     "checksum": "cfa64002e64474584dc1442b5a39b460",
     "grade": true,
     "grade_id": "cell-8a320c2ff7c24d98",
     "locked": false,
     "points": 0,
     "schema_version": 1,
     "solution": true
    }
   },
   "source": [
    "- **1d answer here:** "
   ]
  },
  {
   "cell_type": "markdown",
   "metadata": {
    "deletable": false,
    "nbgrader": {
     "checksum": "442b24601da06376c43cbe6ef5c5348a",
     "grade": true,
     "grade_id": "cell-6a453219105384dd",
     "locked": false,
     "points": 0,
     "schema_version": 1,
     "solution": true
    }
   },
   "source": [
    "**1e.** Print out the datatypes for all of the columns. What are the datatypes for the `contbr_zip`, `contb_receipt_amt`, `contb_receipt_dt`? (5 points)"
   ]
  },
  {
   "cell_type": "code",
   "execution_count": 108,
   "metadata": {
    "deletable": false,
    "nbgrader": {
     "checksum": "c5a1b7f30648cced7269ccb9b1532bd6",
     "grade": true,
     "grade_id": "cell-90c49bd6471a3dc9",
     "locked": false,
     "points": 0,
     "schema_version": 1,
     "solution": true
    }
   },
   "outputs": [
    {
     "name": "stdout",
     "output_type": "stream",
     "text": [
      "cmte_id                      object\n",
      "cand_id                      object\n",
      "cand_nm                      object\n",
      "contbr_nm                    object\n",
      "contbr_city                  object\n",
      "contbr_st                    object\n",
      "contbr_zip                   object\n",
      "contbr_employer              object\n",
      "contbr_occupation            object\n",
      "contb_receipt_amt           float64\n",
      "contb_receipt_dt     datetime64[ns]\n",
      "receipt_desc                 object\n",
      "memo_cd                      object\n",
      "memo_text                    object\n",
      "form_tp                      object\n",
      "file_num                      int64\n",
      "tran_id                      object\n",
      "election_tp                  object\n",
      "extra_col                   float64\n",
      "dtype: object\n"
     ]
    }
   ],
   "source": [
    "# 1e YOUR CODE HERE\n",
    "print(contrib.dtypes)"
   ]
  },
  {
   "cell_type": "markdown",
   "metadata": {
    "deletable": false,
    "nbgrader": {
     "checksum": "60d3e303837e9603de5b96e32af7d806",
     "grade": true,
     "grade_id": "cell-447dc63eff8ebc5f",
     "locked": false,
     "points": 0,
     "schema_version": 1,
     "solution": true
    }
   },
   "source": [
    "- **1e answer here:** "
   ]
  },
  {
   "cell_type": "markdown",
   "metadata": {
    "collapsed": true,
    "deletable": false,
    "nbgrader": {
     "checksum": "20a71229316bf24a2ce62c52f72d8142",
     "grade": true,
     "grade_id": "cell-963603c5ed346a99",
     "locked": false,
     "points": 0,
     "schema_version": 1,
     "solution": true
    }
   },
   "source": [
    "**1f.** What columns have the most non-nulls?  Would you recommend to drop any columns based on the number of nulls? (5 points)"
   ]
  },
  {
   "cell_type": "code",
   "execution_count": 109,
   "metadata": {
    "deletable": false,
    "nbgrader": {
     "checksum": "426b589a9d6457f38381eb1c77678d4f",
     "grade": true,
     "grade_id": "cell-b6fc3f7c906c95a2",
     "locked": false,
     "points": 0,
     "schema_version": 1,
     "solution": true
    }
   },
   "outputs": [
    {
     "name": "stdout",
     "output_type": "stream",
     "text": [
      "cmte_id              1125659\n",
      "cand_id              1125659\n",
      "cand_nm              1125659\n",
      "contbr_nm            1125659\n",
      "contbr_st            1125659\n",
      "contb_receipt_amt    1125659\n",
      "contb_receipt_dt     1125659\n",
      "file_num             1125659\n",
      "tran_id              1125659\n",
      "form_tp              1125659\n",
      "contbr_city          1125633\n",
      "contbr_zip           1125564\n",
      "election_tp          1124234\n",
      "contbr_occupation    1115260\n",
      "contbr_employer       967757\n",
      "memo_text             501148\n",
      "memo_cd               144268\n",
      "receipt_desc           15045\n",
      "extra_col                  0\n",
      "dtype: int64\n"
     ]
    }
   ],
   "source": [
    "# 1f YOUR CODE HERE\n",
    "non_null_counts = contrib.notnull().sum().sort_values(ascending=False)\n",
    "print(non_null_counts)\n"
   ]
  },
  {
   "cell_type": "markdown",
   "metadata": {
    "collapsed": true,
    "deletable": false,
    "nbgrader": {
     "checksum": "81ebf2a2f96961b4464f6c35d2143427",
     "grade": true,
     "grade_id": "cell-bea2cf7a6fff8565",
     "locked": false,
     "points": 0,
     "schema_version": 1,
     "solution": true
    }
   },
   "source": [
    "- **1f answer here:** "
   ]
  },
  {
   "cell_type": "markdown",
   "metadata": {},
   "source": [
    "**1g.** A column we know that we want to use is the cand_nm column.  From the documentation each candidate is a unique candidate id also. Check data quality of `cand_id` column to see if it matches `cand_nm` column. Specifically check to ensure our targetted candidate 'Bernard Sanders' always has the same cand_id throughout. Any issues with `cand_nm` matching `cand_id`? (5 points)"
   ]
  },
  {
   "cell_type": "code",
   "execution_count": 110,
   "metadata": {},
   "outputs": [
    {
     "name": "stdout",
     "output_type": "stream",
     "text": [
      "Candidate IDs for 'Sanders, Bernard': ['P60007168']\n",
      "Number of unique names per cand_id:\n",
      "cand_id\n",
      "P00003392    1\n",
      "P20002671    1\n",
      "P20002721    1\n",
      "P20003281    1\n",
      "P20003984    1\n",
      "P40003576    1\n",
      "P60003670    1\n",
      "P60005915    1\n",
      "P60006046    1\n",
      "P60006111    1\n",
      "P60006723    1\n",
      "P60007168    1\n",
      "P60007242    1\n",
      "P60007572    1\n",
      "P60007671    1\n",
      "P60007697    1\n",
      "P60008059    1\n",
      "P60008398    1\n",
      "P60008521    1\n",
      "P60008885    1\n",
      "P60009685    1\n",
      "P60022654    1\n",
      "P80001571    1\n",
      "P80003379    1\n",
      "P80003478    1\n",
      "Name: cand_nm, dtype: int64\n",
      "Any cand_id associated with multiple names:\n",
      "Series([], Name: cand_nm, dtype: object)\n"
     ]
    }
   ],
   "source": [
    "# 1g YOUR CODE HERE\n",
    "# Get unique cand_id(s) for the name \"Sanders, Bernard\"\n",
    "sand_id_check = contrib[contrib['cand_nm'] == 'Sanders, Bernard']['cand_id'].unique()\n",
    "print(\"Candidate IDs for 'Sanders, Bernard':\", sand_id_check)\n",
    "\n",
    "# Group by candidate ID and get unique names per ID\n",
    "cand_id_mapping = contrib.groupby('cand_id')['cand_nm'].nunique()\n",
    "print(\"Number of unique names per cand_id:\")\n",
    "print(cand_id_mapping.sort_values(ascending=False))\n",
    "\n",
    "# Show all candidate IDs with more than one name (just in case)\n",
    "mismatches = contrib.groupby('cand_id')['cand_nm'].unique()\n",
    "mismatches = mismatches[mismatches.apply(len) > 1]\n",
    "print(\"Any cand_id associated with multiple names:\")\n",
    "print(mismatches)\n"
   ]
  },
  {
   "cell_type": "markdown",
   "metadata": {},
   "source": [
    "- **1g answer here:** "
   ]
  },
  {
   "cell_type": "markdown",
   "metadata": {},
   "source": [
    "**1h.** Another area to check is to make sure all of the records are from California. Check the `contbr_st` column - are there any records outside of California based on `contbr_st`? (5 points)"
   ]
  },
  {
   "cell_type": "code",
   "execution_count": 111,
   "metadata": {},
   "outputs": [
    {
     "name": "stdout",
     "output_type": "stream",
     "text": [
      "Unique values in contbr_st column:\n",
      "['CA']\n"
     ]
    }
   ],
   "source": [
    "# 1h YOUR CODE HERE\n",
    "# Show all unique states in the contributor state column\n",
    "unique_states = contrib['contbr_st'].unique()\n",
    "print(\"Unique values in contbr_st column:\")\n",
    "print(unique_states)\n",
    "\n"
   ]
  },
  {
   "cell_type": "markdown",
   "metadata": {},
   "source": [
    "- **1h answer here:** "
   ]
  },
  {
   "cell_type": "markdown",
   "metadata": {},
   "source": [
    "**1i.** The next column to check for the analysis is the `tran_id` column. This column could be the primary key so look for duplicates. How many duplicate entries are there? Any pattern for why are there duplicate entries? (5 points)"
   ]
  },
  {
   "cell_type": "code",
   "execution_count": 112,
   "metadata": {},
   "outputs": [
    {
     "name": "stdout",
     "output_type": "stream",
     "text": [
      "Number of duplicate tran_id rows: 6873\n"
     ]
    }
   ],
   "source": [
    "# 1i YOUR CODE HERE\n",
    "# Check for duplicate transaction IDs\n",
    "duplicate_tran_ids = contrib[contrib['tran_id'].duplicated(keep=False)]\n",
    "\n",
    "# Number of duplicate rows\n",
    "print(f\"Number of duplicate tran_id rows: {len(duplicate_tran_ids)}\")\n"
   ]
  },
  {
   "cell_type": "markdown",
   "metadata": {},
   "source": [
    "- **1i answer here:** "
   ]
  },
  {
   "cell_type": "markdown",
   "metadata": {},
   "source": [
    "**1j.** Another column to check is the `contb_receipt_amt` that shows the donation amounts. How many negative donations are included? What do negative donations mean? Please show at least pull a few rows to look at the records with negative donations. Do these records match with the expectation of why a negative donation would happen? (5 points)"
   ]
  },
  {
   "cell_type": "code",
   "execution_count": 113,
   "metadata": {},
   "outputs": [
    {
     "name": "stdout",
     "output_type": "stream",
     "text": [
      "Number of negative donation records: 11896\n"
     ]
    }
   ],
   "source": [
    "# 1j YOUR CODE HERE\n",
    "# Filter for negative donation amounts\n",
    "negative_donations = contrib[contrib['contb_receipt_amt'] < 0]\n",
    "\n",
    "# Count them\n",
    "print(f\"Number of negative donation records: {len(negative_donations)}\")\n"
   ]
  },
  {
   "cell_type": "markdown",
   "metadata": {},
   "source": [
    "- **1j answer here:**"
   ]
  },
  {
   "cell_type": "markdown",
   "metadata": {},
   "source": [
    "**1k.** One more column to look at is the date of donation column. Are there any dates outside of the primary period (defined as 1 Jan 2014 to 7 June 2016)? Are the dates well-formatted for our analysis? (5 points)"
   ]
  },
  {
   "cell_type": "code",
   "execution_count": 114,
   "metadata": {},
   "outputs": [
    {
     "name": "stdout",
     "output_type": "stream",
     "text": [
      " Number of records outside the primary window: 451372\n",
      "                         cand_nm          contbr_nm  contb_receipt_amt  \\\n",
      "9932                Rubio, Marco  WHEELER, MARY MS.             -20.00   \n",
      "9994                Rubio, Marco  WHEELER, MARY MS.              20.00   \n",
      "14673  Cruz, Rafael Edward 'Ted'    RANDALL, DICK J          -5,400.00   \n",
      "14682              Johnson, Gary          BOAL, ROB              30.00   \n",
      "14697              Johnson, Gary        LEE, JASCHA              88.45   \n",
      "\n",
      "      contb_receipt_dt  \n",
      "9932        2013-11-05  \n",
      "9994        2013-11-05  \n",
      "14673       2016-06-30  \n",
      "14682       2016-07-20  \n",
      "14697       2016-07-14  \n",
      "Number of records with missing or invalid dates: 0\n"
     ]
    }
   ],
   "source": [
    "# 1k YOUR CODE HERE\n",
    "from datetime import datetime\n",
    "\n",
    "start_primary = datetime(2014, 1, 1)\n",
    "end_primary = datetime(2016, 6, 7)\n",
    "\n",
    "outside_primary = contrib[\n",
    "    (contrib['contb_receipt_dt'] < start_primary) |\n",
    "    (contrib['contb_receipt_dt'] > end_primary)\n",
    "]\n",
    "\n",
    "print(f\" Number of records outside the primary window: {len(outside_primary)}\")\n",
    "print(outside_primary[['cand_nm', 'contbr_nm', 'contb_receipt_amt', 'contb_receipt_dt']].head())\n",
    "\n",
    "missing_dates = contrib[contrib['contb_receipt_dt'].isnull()]\n",
    "print(f\"Number of records with missing or invalid dates: {len(missing_dates)}\")\n",
    "\n",
    "\n",
    "\n"
   ]
  },
  {
   "cell_type": "markdown",
   "metadata": {},
   "source": [
    "- **1k answer here:**"
   ]
  },
  {
   "cell_type": "markdown",
   "metadata": {
    "collapsed": true,
    "deletable": false,
    "nbgrader": {
     "checksum": "bffd2778d22127102347386bfb6f5b20",
     "grade": true,
     "grade_id": "cell-4ad1da24176f0450",
     "locked": false,
     "points": 0,
     "schema_version": 1,
     "solution": true
    }
   },
   "source": [
    "**1l.** Finally, answer the initial questions in the cells below (5 points)"
   ]
  },
  {
   "cell_type": "markdown",
   "metadata": {},
   "source": [
    "Do we have the correct # of columns and rows.**1l.1** \n",
    "\n",
    "- **1l.1 answer here:**\n",
    "Yes"
   ]
  },
  {
   "cell_type": "markdown",
   "metadata": {},
   "source": [
    "**1l.2** Do the records contain data for the questions we want to answer?\n",
    "\n",
    "- **1l.2 answer here:**\n",
    "Yes\n"
   ]
  },
  {
   "cell_type": "markdown",
   "metadata": {},
   "source": [
    "**1l.3** What columns are important?\n",
    "\n",
    "- **1l.3 answer here:** \n",
    "\n",
    "cand_nm – Candidate name\n",
    "\n",
    "cand_id – Candidate ID (for validation)\n",
    "\n",
    "contbr_zip – Contributor ZIP code (for geographic analysis)\n",
    "\n",
    "contb_receipt_amt – Donation amount\n",
    "\n",
    "contb_receipt_dt – Date of donation\n",
    "\n",
    "tran_id – Transaction ID (for duplicate detection)\n",
    "\n",
    "contbr_st – Contributor state (to ensure CA-only data)\n",
    "\n",
    "election_tp – Election type (to filter for P2016)\n",
    "\n",
    "memo_cd – Memo code (helps interpret special transactions like refunds)\n",
    "\n",
    "memo_text – Memo text (reason for refunds/redesignations)"
   ]
  },
  {
   "cell_type": "markdown",
   "metadata": {},
   "source": [
    "**1l.4** What columns can be dropped?\n",
    "\n",
    "- **1l.4 answer here:** \n",
    "contbr_city – You’re already using contbr_zip for location; city adds little extra value\n",
    "\n",
    "contbr_employer – Not needed unless analyzing donor professions/industries\n",
    "\n",
    "contbr_occupation – Same as above; optional demographic insight\n",
    "\n",
    "receipt_desc – Often blank or contains minimal data\n",
    "\n",
    "file_num – Administrative; not needed for analysis\n",
    "\n",
    "form_tp – Internal form tracking; not relevant here\n",
    "\n",
    "cmte_id – Committee info is not needed unless tracking PACs\n",
    "\n",
    "memo_cd – Only keep if you’re not already using memo_text for interpreting negative donations"
   ]
  },
  {
   "cell_type": "markdown",
   "metadata": {},
   "source": [
    "**1l.5** What are the data problems?\n",
    "\n",
    "- **1l.5 answer here:**\n",
    " Data Problems Found\n",
    "1. Trailing Commas Causing Column Misalignment\n",
    "2. Missing or Invalid Dates\n",
    "3. Negative Donations\n",
    "4. Duplicate tran_id Values\n",
    "5. Non-California Records\n",
    "6. Multiple cand_id per cand_nm or vice versa\n",
    "7. Missing or Nearly Empty Columns"
   ]
  },
  {
   "cell_type": "markdown",
   "metadata": {},
   "source": [
    "**1l.6** List any assumptions so far:\n",
    "\n",
    "- **1l.6 answer here:**\n",
    "Each candidate has one unique cand_id\n",
    "\n",
    "Dataset contains only California records (contbr_st == 'CA')\n",
    "\n",
    "Only contributions between Jan 1, 2014 and June 7, 2016 are relevant\n",
    "\n",
    "Negative contb_receipt_amt values are valid (e.g., refunds)\n",
    "\n",
    "tran_id values are expected to be unique\n",
    "\n",
    "Valid election type is P2016 only\n",
    "\n",
    "ZIP code analysis uses the first 5 digits of contbr_zip\n",
    "\n",
    "Data follows the 18-column FEC schema\n",
    "\n",
    "memo_cd and memo_text are sparsely populated but useful\n",
    "\n"
   ]
  },
  {
   "cell_type": "markdown",
   "metadata": {
    "collapsed": true,
    "deletable": false,
    "nbgrader": {
     "checksum": "14c2855e3d59f0da6b1afd5cf0da2da8",
     "grade": true,
     "grade_id": "cell-fd840cdd19d2bd2a",
     "locked": false,
     "points": 0,
     "schema_version": 1,
     "solution": true
    }
   },
   "source": [
    "***\n",
    "## 2. Data filtering and data quality fixes (30 points)\n",
    "\n",
    "Now that we have a basic understanding of the data, let's filter out the records we don't need and fix the data."
   ]
  },
  {
   "cell_type": "markdown",
   "metadata": {},
   "source": [
    "**2a.** From the dataset filter out (remove) any election_tp not in the primary election. Print/show the shape of the dataframe after the filtering is complete. (5 points)"
   ]
  },
  {
   "cell_type": "code",
   "execution_count": 115,
   "metadata": {
    "deletable": false,
    "nbgrader": {
     "checksum": "43ce3d15cee7ab73f53fd8f054c9826c",
     "grade": true,
     "grade_id": "cell-dce8d3107c1463ca",
     "locked": false,
     "points": 0,
     "schema_version": 1,
     "solution": true
    }
   },
   "outputs": [
    {
     "name": "stdout",
     "output_type": "stream",
     "text": [
      "Shape after filtering for primary election (P2016): (810481, 19)\n"
     ]
    }
   ],
   "source": [
    "# 2a YOUR CODE HERE\n",
    "# Filter the dataset to keep only primary election contributions\n",
    "primary_only = contrib[contrib['election_tp'] == 'P2016'].copy()\n",
    "\n",
    "# Show the new shape\n",
    "print(\"Shape after filtering for primary election (P2016):\", primary_only.shape)\n",
    "\n"
   ]
  },
  {
   "cell_type": "markdown",
   "metadata": {
    "deletable": false,
    "nbgrader": {
     "checksum": "a5f4e6df0f32e24c492a9589ec87fef6",
     "grade": true,
     "grade_id": "cell-9e3f68b21dac8e10",
     "locked": false,
     "points": 0,
     "schema_version": 1,
     "solution": true
    }
   },
   "source": [
    "**2b.** From the dataset filter out (remove) any candidate that is not Bernie Sanders. Print/show the shape of the dataframe after the filtering is complete. (5 points)"
   ]
  },
  {
   "cell_type": "code",
   "execution_count": 116,
   "metadata": {
    "deletable": false,
    "nbgrader": {
     "checksum": "4f1a9e7ee0ded9d2b5af5777cb85e505",
     "grade": true,
     "grade_id": "cell-c14fbed9d72d54e3",
     "locked": false,
     "points": 0,
     "schema_version": 1,
     "solution": true
    }
   },
   "outputs": [
    {
     "name": "stdout",
     "output_type": "stream",
     "text": [
      "Shape after filtering for Bernie Sanders: (407171, 19)\n"
     ]
    }
   ],
   "source": [
    "# 2b YOUR CODE HERE\n",
    "# Further filter to include only Bernie Sanders' records\n",
    "bernie_only = primary_only[primary_only['cand_nm'] == 'Sanders, Bernard'].copy()\n",
    "\n",
    "# Show the new shape\n",
    "print(\"Shape after filtering for Bernie Sanders:\", bernie_only.shape)\n"
   ]
  },
  {
   "cell_type": "markdown",
   "metadata": {},
   "source": [
    "**2c.** The `contbr_zip` column is not formatted well for our analysis. Make a new zipcode column that is the five-digit zipcodes. Filter out any records outside of California based on the zipcode. Print/show the shape of the dataframe after the filtering is complete. (10 points).\n",
    "\n",
    "- You will have to research what the valid 5-digit zipcodes for California are!"
   ]
  },
  {
   "cell_type": "code",
   "execution_count": null,
   "metadata": {},
   "outputs": [
    {
     "name": "stdout",
     "output_type": "stream",
     "text": [
      "Unique ZIP codes after extraction: ['93011' '90278' '92084' '92683' '94952']\n",
      "Shape after filtering for California ZIP codes: (407135, 20)\n",
      "Non-California ZIP codes remaining: []\n"
     ]
    }
   ],
   "source": [
    "# 2c YOUR CODE HERE\n",
    "# Ensure 'contbr_zip' is treated as a string\n",
    "bernie_only['contbr_zip'] = bernie_only['contbr_zip'].astype(str)\n",
    "\n",
    "# Extract the first five digits\n",
    "bernie_only['zipcode_5'] = bernie_only['contbr_zip'].str[:5]\n",
    "\n",
    "# Display unique values to verify\n",
    "print(\"Unique ZIP codes after extraction:\", bernie_only['zipcode_5'].unique()[:5])\n",
    "\n",
    "# Convert 'zipcode_5' to numeric, setting errors='coerce' will replace non-numeric values with NaN\n",
    "bernie_only['zipcode_5'] = pd.to_numeric(bernie_only['zipcode_5'], errors='coerce')\n",
    "\n",
    "# Define the range for California ZIP codes\n",
    "ca_zip_min = 90001\n",
    "ca_zip_max = 96162\n",
    "\n",
    "# Filter for ZIP codes within the California range\n",
    "bernie_ca = bernie_only[(bernie_only['zipcode_5'] >= ca_zip_min) & (bernie_only['zipcode_5'] <= ca_zip_max)].copy()\n",
    "\n",
    "# Display the shape after filtering\n",
    "print(\"Shape after filtering for California ZIP codes:\", bernie_ca.shape)\n",
    "\n",
    "\n",
    "# Check for any remaining non-California ZIP codes\n",
    "non_ca_zips = bernie_ca[~((bernie_ca['zipcode_5'] >= ca_zip_min) & (bernie_ca['zipcode_5'] <= ca_zip_max))]\n",
    "\n",
    "# Display if any non-CA ZIP codes remain\n",
    "print(\"Non-California ZIP codes remaining:\", non_ca_zips['zipcode_5'].unique())\n"
   ]
  },
  {
   "cell_type": "markdown",
   "metadata": {},
   "source": [
    "**2d.** The receipt amount column has negative donations. After talking with your team, a decision was made that the best course of action is to remove these negative values so that the donation count and amount is more accurate. Print/show the shape of the dataframe after the filtering is complete. (5 points)"
   ]
  },
  {
   "cell_type": "code",
   "execution_count": 118,
   "metadata": {},
   "outputs": [
    {
     "name": "stdout",
     "output_type": "stream",
     "text": [
      "Shape after removing negative donations: (404048, 20)\n"
     ]
    }
   ],
   "source": [
    "# 2d YOUR CODE HERE\n",
    "# Filter out negative donation amounts\n",
    "bernie_ca_clean = bernie_ca[bernie_ca['contb_receipt_amt'] >= 0].copy()\n",
    "\n",
    "# Print the new shape of the dataset\n",
    "print(\"Shape after removing negative donations:\", bernie_ca_clean.shape)\n",
    "\n"
   ]
  },
  {
   "cell_type": "markdown",
   "metadata": {},
   "source": [
    "**2e.** From the dataset drop any columns that won't be used in the analysis. Print/show the shape of the dataframe after the dropping is complete. What columns did you drop and why? (5 points)"
   ]
  },
  {
   "cell_type": "code",
   "execution_count": 119,
   "metadata": {},
   "outputs": [
    {
     "name": "stdout",
     "output_type": "stream",
     "text": [
      "Shape after dropping unused columns: (404048, 6)\n"
     ]
    }
   ],
   "source": [
    "# 2e YOUR CODE HERE\n",
    "# Drop unnecessary columns\n",
    "bernie_final = bernie_ca_clean.drop(columns=[\n",
    "    'cmte_id',          # Internal committee ID (not used in analysis)\n",
    "    'cand_id',          # cand_nm is enough for this analysis\n",
    "    'contbr_nm',        # Individual names not needed for ZIP-level summary\n",
    "    'contbr_city',      # Redundant with ZIP\n",
    "    'contbr_st',        # Already filtered to CA\n",
    "    'contbr_zip',       # Replaced by zipcode_5\n",
    "    'contbr_employer',  # Not needed unless analyzing by occupation\n",
    "    'contbr_occupation',# Same as above\n",
    "    'receipt_desc',     # Often blank\n",
    "    'memo_cd',          # Used for internal tracking\n",
    "    'memo_text',        # We removed negative values, so this is no longer useful\n",
    "    'form_tp',          # Internal FEC form type\n",
    "    'file_num',         # FEC-specific metadata\n",
    "    'tran_id',          # Useful for deduping, but not needed for summary analysis\n",
    "])\n",
    "\n",
    "# Show shape after dropping columns\n",
    "print(\"Shape after dropping unused columns:\", bernie_final.shape)\n",
    "\n"
   ]
  },
  {
   "cell_type": "markdown",
   "metadata": {},
   "source": [
    "- **2e answer here:**\n",
    "\n",
    "    'cmte_id',          # Internal committee ID (not used in analysis)\n",
    "    \n",
    "    'cand_id',          # cand_nm is enough for this analysis\n",
    "\n",
    "    'contbr_nm',        # Individual names not needed for ZIP-level summary\n",
    "\n",
    "    'contbr_city',      # Redundant with ZIP\n",
    "\n",
    "    'contbr_st',        # Already filtered to CA\n",
    "\n",
    "    'contbr_zip',       # Replaced by zipcode_5\n",
    "\n",
    "    'contbr_employer',  # Not needed unless analyzing by occupation\n",
    "\n",
    "    'contbr_occupation',# Same as above\n",
    "\n",
    "    'receipt_desc',     # Often blank\n",
    "\n",
    "    'memo_cd',          # Used for internal tracking\n",
    "\n",
    "    'memo_text',        # We removed negative values, so this is no longer useful\n",
    "\n",
    "    'form_tp',          # Internal FEC form type\n",
    "\n",
    "    'file_num',         # FEC-specific metadata\n",
    "    \n",
    "    'tran_id',          # Useful for deduping, but not needed for summary analysis"
   ]
  },
  {
   "cell_type": "markdown",
   "metadata": {},
   "source": [
    "**2f.** List any assumptions that you made up to this point:"
   ]
  },
  {
   "cell_type": "markdown",
   "metadata": {},
   "source": [
    "- **2f answer here:**\n",
    "\n",
    "Only contributions with election_tp == 'P2016' are relevant to the 2016 primary election.\n",
    "\n",
    "Only records where cand_nm == 'Sanders, Bernard' are relevant to your candidate analysis.\n",
    "\n",
    "California ZIP codes fall within the range 90001–96162, and any records outside this range are not from California.\n",
    "\n",
    "Only the first 5 digits of contbr_zip are used for analysis.\n",
    "\n",
    "Negative donation amounts (e.g., refunds or redesignations) are not relevant for this analysis and should be removed.\n",
    "\n",
    "The column contb_receipt_dt is correctly parsed as datetime64[ns] and used for time-based analysis.\n",
    "\n",
    "Columns like memo_cd, memo_text, receipt_desc, etc. are not needed after negative values are removed.\n",
    "\n",
    "Removing columns like tran_id, file_num, and form_tp does not impact the accuracy of ZIP-level or date-level aggregation.\n",
    "\n",
    "Dropping non-essential columns simplifies analysis without removing necessary information."
   ]
  },
  {
   "cell_type": "markdown",
   "metadata": {
    "deletable": false,
    "nbgrader": {
     "checksum": "6dc1481a003cdd752c5edfa9ac400879",
     "grade": true,
     "grade_id": "cell-f7a01ce9c5b10ac7",
     "locked": false,
     "points": 0,
     "schema_version": 1,
     "solution": true
    }
   },
   "source": [
    "***\n",
    "## 3. Answering the questions (20 points)\n",
    "\n",
    "Now that the data is cleaned and filterd - let's answer the two questions from your boss!"
   ]
  },
  {
   "cell_type": "markdown",
   "metadata": {
    "deletable": false,
    "nbgrader": {
     "checksum": "010f5de5f6af4c7f830d1cf7a81bbc0f",
     "grade": true,
     "grade_id": "cell-5617179133b06d0c",
     "locked": false,
     "points": 0,
     "schema_version": 1,
     "solution": true
    }
   },
   "source": [
    "**3a.** Which zipcode had the highest count of contributions and the most dollar amount? (10 points)"
   ]
  },
  {
   "cell_type": "code",
   "execution_count": 121,
   "metadata": {},
   "outputs": [
    {
     "name": "stdout",
     "output_type": "stream",
     "text": [
      "ZIP code with highest total dollar amount:\n",
      "           total_contributions  contribution_count\n",
      "zipcode_5                                         \n",
      "94110               294,061.13                4046\n",
      "\n",
      "ZIP code with highest count of contributions:\n",
      "           total_contributions  contribution_count\n",
      "zipcode_5                                         \n",
      "94110               294,061.13                4046\n"
     ]
    }
   ],
   "source": [
    "# 3a YOUR CODE HERE\n",
    "# Group by 5-digit ZIP and calculate total contributions and count\n",
    "zip_summary = bernie.groupby('zipcode_5').agg(\n",
    "    total_contributions=('contb_receipt_amt', 'sum'),\n",
    "    contribution_count=('contb_receipt_amt', 'count')\n",
    ")\n",
    "\n",
    "# Sort by total contributions (dollar amount)\n",
    "top_by_amount = zip_summary.sort_values(by='total_contributions', ascending=False).head(1)\n",
    "\n",
    "# Sort by number of contributions\n",
    "top_by_count = zip_summary.sort_values(by='contribution_count', ascending=False).head(1)\n",
    "\n",
    "# Display both\n",
    "print(\"ZIP code with highest total dollar amount:\")\n",
    "print(top_by_amount)\n",
    "\n",
    "print(\"\\nZIP code with highest count of contributions:\")\n",
    "print(top_by_count)\n",
    "\n",
    "\n",
    "\n"
   ]
  },
  {
   "cell_type": "markdown",
   "metadata": {},
   "source": [
    "- **3a answer here:** "
   ]
  },
  {
   "cell_type": "markdown",
   "metadata": {},
   "source": [
    "**3b.** What day(s) of the month do most people donate? (10 points)"
   ]
  },
  {
   "cell_type": "code",
   "execution_count": null,
   "metadata": {},
   "outputs": [
    {
     "name": "stdout",
     "output_type": "stream",
     "text": [
      "📅 Most common donation days of the month:\n",
      "donation_day\n",
      "29    23508\n",
      "30    22899\n",
      "31    19486\n",
      "14    17793\n",
      "8     16774\n",
      "Name: count, dtype: int64\n"
     ]
    }
   ],
   "source": [
    "# 3b YOUR CODE HERE\n",
    "# Count donations by day of the month\n",
    "donation_day_counts = bernie['donation_day'].value_counts().sort_values(ascending=False)\n",
    "\n",
    "# Display top 5 most common donation days\n",
    "print(\" Most common donation days of the month:\")\n",
    "print(donation_day_counts.head(5))\n",
    "\n"
   ]
  },
  {
   "cell_type": "markdown",
   "metadata": {},
   "source": [
    "- **3b answer here:** "
   ]
  },
  {
   "cell_type": "markdown",
   "metadata": {},
   "source": [
    "## If you have feedback for this homework, please submit it using the link below:\n",
    "\n",
    "http://goo.gl/forms/74yCiQTf6k"
   ]
  }
 ],
 "metadata": {
  "kernelspec": {
   "display_name": "Python 3",
   "language": "python",
   "name": "python3"
  },
  "language_info": {
   "codemirror_mode": {
    "name": "ipython",
    "version": 3
   },
   "file_extension": ".py",
   "mimetype": "text/x-python",
   "name": "python",
   "nbconvert_exporter": "python",
   "pygments_lexer": "ipython3",
   "version": "3.12.1"
  }
 },
 "nbformat": 4,
 "nbformat_minor": 2
}
