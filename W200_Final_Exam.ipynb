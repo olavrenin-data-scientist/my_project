{
 "cells": [
  {
   "cell_type": "markdown",
   "metadata": {
    "id": "DQg2BdFIg7TM"
   },
   "source": [
    "# W200 Introduction to Data Science Programming, UC Berkeley MIDS\n",
    "\n",
    "\n",
    "## Instructions\n",
    "The final exam is designed to evaluate your grasp of Python theory as well as Python coding.\n",
    "\n",
    "- This is an individual exam.\n",
    "- You have 48 hours to complete the exam, starting from the point at which you first access it.\n",
    "- You will be graded on the quality of your answers.  Use clear, persuasive arguments based on concepts we covered in class.\n",
    "- Please double-click the markdown cells where it says \"Your answer here\" to input answers (if you need more cells please make them markdown cells)\n",
    "- Use only Python standard libraries, matplotlib, seaborn, NumPy and Pandas for this exam\n",
    "- Upload your exam to gradescope and your github repo in the folder /SUBMISSIONS/final_exam/. **The code version uploaded to Part 2 will be your official version for grading purposes.**\n",
    "- There is no autograder for this notebook - your exam will be manually graded.\n",
    "- Please restart and run all cells before submitting so that all of your answers are shown. You do not need to upload the dataset into gradescope or github."
   ]
  },
  {
   "cell_type": "markdown",
   "metadata": {
    "id": "hfJDE2HWg7TT"
   },
   "source": [
    "## YOUR NAME HERE"
   ]
  },
  {
   "cell_type": "markdown",
   "metadata": {
    "id": "Dxxzo-O4g7TU"
   },
   "source": [
    "## 1: Short Answer Questions (25 pts - each question = 5 pts)\n",
    "\n",
    "a) The following class ```Cart``` and method ```add_to_cart``` are parts of a larger program used by a mobile phone company.  The method ```add_to_cart``` will work when an object of type MobileDevice or of type ServiceContract is passed to it. State whether the method ```add_to_cart``` is a demonstration of the following items (yes/no) and the reasoning (1-2 sentences): \n",
    "\n",
    "    1. Inheritance\n",
    "    2. Polymorphism\n",
    "    3. Object-Oriented programming\n",
    "    4. Top-down design\n",
    "    5. Functional programming"
   ]
  },
  {
   "cell_type": "code",
   "execution_count": null,
   "metadata": {
    "id": "okLhQLwfg7TV"
   },
   "outputs": [],
   "source": [
    "# Method:\n",
    "class Cart():\n",
    "    \n",
    "    def __init__(self):\n",
    "        self.cart = []\n",
    "        self.total = 0\n",
    "    \n",
    "    def add_to_cart(self, item):\n",
    "        self.cart.append(item)\n",
    "        self.total += item.price"
   ]
  },
  {
   "cell_type": "markdown",
   "metadata": {
    "id": "syKK8Dj_g7Ta"
   },
   "source": [
    "- a) Your answer here\n",
    "\n",
    "\n",
    "1. Inheritance: No\n",
    "2. Polymorphism: Yes\n",
    "3. Object-Oriented programming: Yes\n",
    "4. Top-down design: No\n",
    "5. Functional programming: No"
   ]
  },
  {
   "cell_type": "markdown",
   "metadata": {
    "id": "JdTWk7xZg7Ta"
   },
   "source": [
    "b) Suppose you have a long list of digits (0-9) that you want to write to a file.  From a storage standpoint, would it be more efficient to use ASCII or UTF-8 as an encoding? What is the most efficient way to create an even smaller file to store the information?"
   ]
  },
  {
   "cell_type": "markdown",
   "metadata": {
    "id": "UDRs-eIxg7Tb"
   },
   "source": [
    "- b) Your answer here\n",
    "Both ASCII and UTF-8 are equal for storing digits 0-9, both use 8 bites per digit. Better to use binary encoding, it uses 4 bites."
   ]
  },
  {
   "cell_type": "markdown",
   "metadata": {
    "id": "RMIrgGNjg7Tc"
   },
   "source": [
    "c) How would you sanity-check your data? Why is it important to sanity-check your data before you begin your analysis? What could happen if you don't?"
   ]
  },
  {
   "cell_type": "markdown",
   "metadata": {
    "collapsed": true,
    "id": "errKkCYQg7Td"
   },
   "source": [
    "- c) Your answer here"
   ]
  },
  {
   "cell_type": "markdown",
   "metadata": {
    "id": "pY3aAxV-g7Te"
   },
   "source": [
    "d) How do you determine which variables in your dataset you should check for issues prior to starting an analysis? "
   ]
  },
  {
   "cell_type": "markdown",
   "metadata": {
    "collapsed": true,
    "id": "doSOqeqog7Te"
   },
   "source": [
    "- d) Your answer here\n",
    "\n",
    "Before starting an analysis, you should check all variables for issues, but prioritize based on the following:\n",
    "\n",
    "1. Data Type\n",
    "\n",
    "Identify whether variables are numeric, categorical, or text. \n",
    "\n",
    "2. Role in Analysis\n",
    "\n",
    "Focus first on variables that are target or key predictors.\n",
    "\n",
    "3. Missing Values\n",
    "\n",
    "Check for missing or null values.\n",
    "\n",
    "4. Unique Values\n",
    "\n",
    "Use .nunique() to detect variables with too many unique values.\n",
    "\n",
    "5. Distributions and Outliers\n",
    "\n",
    "For numerical columns, use .describe() and plots like histograms.\n",
    "\n",
    "6. Inconsistent or Unexpected Entries\n",
    "\n",
    "In categorical variables, check for typos, and inconsistent capitalization.\n",
    "\n",
    "Summary:\n",
    "\n",
    "You should evaluate all variables, but pay special attention to key variables used in your analysis and those most likely to contain quality issues."
   ]
  },
  {
   "cell_type": "markdown",
   "metadata": {
    "id": "GQjhe5avg7Tf"
   },
   "source": [
    "e1) Explain why the following code prints what it does."
   ]
  },
  {
   "cell_type": "code",
   "execution_count": 14,
   "metadata": {
    "id": "j2cQqWirg7Tg"
   },
   "outputs": [
    {
     "name": "stdout",
     "output_type": "stream",
     "text": [
      "<class 'function'>\n"
     ]
    }
   ],
   "source": [
    "def g(): pass\n",
    "print(type(g))"
   ]
  },
  {
   "cell_type": "markdown",
   "metadata": {
    "id": "YOrDq07ag7Th"
   },
   "source": [
    "- e1) Your answer here\n",
    "\n",
    "When you define a function in Python using def, it creates an object of type function.\n",
    "\n",
    "g is a reference to that function object.\n",
    "\n",
    "type(g) checks the type of the object g refers to.\n",
    "\n",
    "print(type(g)) outputs:\n",
    "<class 'function'>"
   ]
  },
  {
   "cell_type": "markdown",
   "metadata": {
    "id": "MAs1nQZ_g7Th"
   },
   "source": [
    "e2) Explain why the following code prints something different."
   ]
  },
  {
   "cell_type": "code",
   "execution_count": 21,
   "metadata": {
    "id": "1b49c_4Ag7Ti"
   },
   "outputs": [
    {
     "name": "stdout",
     "output_type": "stream",
     "text": [
      "<class 'NoneType'>\n"
     ]
    }
   ],
   "source": [
    "def g(): pass\n",
    "print(type(g()))"
   ]
  },
  {
   "cell_type": "markdown",
   "metadata": {
    "id": "9jBjkguyg7Tj"
   },
   "source": [
    "- e2) Your answer here\n",
    "\n",
    "The function g() is executed, and its return value is passed to type(...).\n",
    "\n",
    "Since the function g() contains only pass, it doesn't return anything explicitly.\n",
    "\n",
    "In Python, when a function does not explicitly return a value, it implicitly returns None.\n",
    "\n",
    "type(g()) is equivalent to type(None), which results in:\n",
    "\n",
    "➡️ <class 'NoneType'>"
   ]
  },
  {
   "cell_type": "markdown",
   "metadata": {
    "id": "jtHAe_5Pg7Tj"
   },
   "source": [
    "## 2:  General Coding Questions (15 pts - each question 5 pts)"
   ]
  },
  {
   "cell_type": "markdown",
   "metadata": {
    "id": "2EAQnoKwg7Tj"
   },
   "source": [
    "a) Using a dictionary comprehension, make a dictionary with the keys being the lowercase vowels (aeiou) and the values being the number of vowels in the example_text (case insensitive). Fill in a dictionary comprehension below so that we get this desired output.\n",
    "\n",
    "```\n",
    "example_text = 'Outlook is bright!'\n",
    "```\n",
    "\n",
    "expected output:\n",
    "```\n",
    "{'i': 2, 'o': 3, 'u': 1}\n",
    "\n",
    "or\n",
    "\n",
    "{'a': 0, 'e': 0, 'i': 2, 'o': 3, 'u': 1}\n",
    "```"
   ]
  },
  {
   "cell_type": "code",
   "execution_count": 16,
   "metadata": {
    "id": "yT_f_hhgg7Tk"
   },
   "outputs": [
    {
     "name": "stdout",
     "output_type": "stream",
     "text": [
      "{'a': 0, 'e': 1, 'i': 3, 'o': 3, 'u': 0}\n"
     ]
    }
   ],
   "source": [
    "example_text = \"I love coding in python!\"\n",
    "\n",
    "\n",
    "# 2a) Your code here\n",
    "\n",
    "vowel_counts = {v: example_text.lower().count(v) for v in 'aeiou'}\n",
    "print(vowel_counts)"
   ]
  },
  {
   "cell_type": "markdown",
   "metadata": {
    "id": "j5v3mwmVg7Tk"
   },
   "source": [
    "b) Below is a data frame of customers that have different cooling systems. Your data science team lead wants the column ```cooling_system``` to be labeled with the integer numbers 1-4 instead of the text as shown below:\n",
    "\n",
    "- 1 = Air Conditioning / Air Con / AC\n",
    "- 2 = Heat Pump / HP\n",
    "- 3 = Evaporative Cooler / EvapCooler / EC\n",
    "- 4 = Fan\n",
    "\n",
    "Make a new column called ```cooling_type``` that maps the text values to the new numeric values. Filter out / remove rows with the values that are not included in the mapping above. Print out/display this new data frame. Be sure to list any assumptions also!"
   ]
  },
  {
   "cell_type": "code",
   "execution_count": 17,
   "metadata": {
    "id": "61EFcCtbg7Tl"
   },
   "outputs": [
    {
     "data": {
      "text/html": [
       "<div>\n",
       "<style scoped>\n",
       "    .dataframe tbody tr th:only-of-type {\n",
       "        vertical-align: middle;\n",
       "    }\n",
       "\n",
       "    .dataframe tbody tr th {\n",
       "        vertical-align: top;\n",
       "    }\n",
       "\n",
       "    .dataframe thead th {\n",
       "        text-align: right;\n",
       "    }\n",
       "</style>\n",
       "<table border=\"1\" class=\"dataframe\">\n",
       "  <thead>\n",
       "    <tr style=\"text-align: right;\">\n",
       "      <th></th>\n",
       "      <th>Cust_Number</th>\n",
       "      <th>Cooling_System</th>\n",
       "    </tr>\n",
       "  </thead>\n",
       "  <tbody>\n",
       "    <tr>\n",
       "      <th>0</th>\n",
       "      <td>101</td>\n",
       "      <td>AC</td>\n",
       "    </tr>\n",
       "    <tr>\n",
       "      <th>1</th>\n",
       "      <td>102</td>\n",
       "      <td>Heat Pump</td>\n",
       "    </tr>\n",
       "    <tr>\n",
       "      <th>2</th>\n",
       "      <td>103</td>\n",
       "      <td>Air Con</td>\n",
       "    </tr>\n",
       "    <tr>\n",
       "      <th>3</th>\n",
       "      <td>104</td>\n",
       "      <td>Air Conditioning</td>\n",
       "    </tr>\n",
       "    <tr>\n",
       "      <th>4</th>\n",
       "      <td>105</td>\n",
       "      <td>Fan</td>\n",
       "    </tr>\n",
       "    <tr>\n",
       "      <th>5</th>\n",
       "      <td>106</td>\n",
       "      <td>None</td>\n",
       "    </tr>\n",
       "    <tr>\n",
       "      <th>6</th>\n",
       "      <td>107</td>\n",
       "      <td>EvapCooler</td>\n",
       "    </tr>\n",
       "    <tr>\n",
       "      <th>7</th>\n",
       "      <td>108</td>\n",
       "      <td>None</td>\n",
       "    </tr>\n",
       "    <tr>\n",
       "      <th>8</th>\n",
       "      <td>109</td>\n",
       "      <td>EC</td>\n",
       "    </tr>\n",
       "    <tr>\n",
       "      <th>9</th>\n",
       "      <td>110</td>\n",
       "      <td>Evaporative Cooler</td>\n",
       "    </tr>\n",
       "    <tr>\n",
       "      <th>10</th>\n",
       "      <td>111</td>\n",
       "      <td>geothermal</td>\n",
       "    </tr>\n",
       "    <tr>\n",
       "      <th>11</th>\n",
       "      <td>112</td>\n",
       "      <td>8</td>\n",
       "    </tr>\n",
       "    <tr>\n",
       "      <th>12</th>\n",
       "      <td>113</td>\n",
       "      <td>Air Con</td>\n",
       "    </tr>\n",
       "  </tbody>\n",
       "</table>\n",
       "</div>"
      ],
      "text/plain": [
       "    Cust_Number      Cooling_System\n",
       "0           101                  AC\n",
       "1           102           Heat Pump\n",
       "2           103             Air Con\n",
       "3           104    Air Conditioning\n",
       "4           105                 Fan\n",
       "5           106                None\n",
       "6           107          EvapCooler\n",
       "7           108                None\n",
       "8           109                  EC\n",
       "9           110  Evaporative Cooler\n",
       "10          111          geothermal\n",
       "11          112                   8\n",
       "12          113             Air Con"
      ]
     },
     "execution_count": 17,
     "metadata": {},
     "output_type": "execute_result"
    }
   ],
   "source": [
    "import pandas\n",
    "\n",
    "# creating a data frame from scratch - list of lists\n",
    "\n",
    "data = [ \n",
    "         [101, 'AC'], \n",
    "         [102, 'Heat Pump'], \n",
    "         [103, 'Air Con'], \n",
    "         [104, 'Air Conditioning'],\n",
    "         [105, 'Fan'],\n",
    "         [106, 'None'],\n",
    "         [107, 'EvapCooler'],\n",
    "         [108, None],\n",
    "         [109, 'EC'],\n",
    "         [110, 'Evaporative Cooler'],\n",
    "         [111, 'geothermal'],\n",
    "         [112, 8],\n",
    "         [113, 'Air Con']\n",
    "       ]\n",
    "\n",
    "# create a data frame with column names - list of lists\n",
    "\n",
    "col_names = ['Cust_Number', 'Cooling_System']\n",
    "df = pandas.DataFrame(data, columns=col_names)\n",
    "df"
   ]
  },
  {
   "cell_type": "code",
   "execution_count": 18,
   "metadata": {
    "id": "E3IH8MHwg7Tl"
   },
   "outputs": [
    {
     "name": "stdout",
     "output_type": "stream",
     "text": [
      "    Cust_Number      Cooling_System  cooling_type\n",
      "0           101                  AC           1.0\n",
      "1           102           Heat Pump           2.0\n",
      "2           103             Air Con           1.0\n",
      "3           104    Air Conditioning           1.0\n",
      "4           105                 Fan           4.0\n",
      "6           107          EvapCooler           3.0\n",
      "8           109                  EC           3.0\n",
      "9           110  Evaporative Cooler           3.0\n",
      "12          113             Air Con           1.0\n"
     ]
    }
   ],
   "source": [
    "# 2b) Your code here\n",
    "\n",
    "# Normalize strings (lowercase for consistency)\n",
    "df['Cooling_System_clean'] = df['Cooling_System'].astype(str).str.lower().str.strip()\n",
    "\n",
    "# Define mapping\n",
    "mapping = {\n",
    "    'air conditioning': 1,\n",
    "    'air con': 1,\n",
    "    'ac': 1,\n",
    "    'heat pump': 2,\n",
    "    'hp': 2,\n",
    "    'evaporative cooler': 3,\n",
    "    'evapcooler': 3,\n",
    "    'ec': 3,\n",
    "    'fan': 4\n",
    "}\n",
    "\n",
    "# Map cleaned values to numeric type\n",
    "df['cooling_type'] = df['Cooling_System_clean'].map(mapping)\n",
    "\n",
    "# Filter out unmapped rows (i.e., where cooling_type is NaN)\n",
    "df_filtered = df[df['cooling_type'].notna()].copy()\n",
    "\n",
    "# Drop the helper column for presentation\n",
    "df_filtered = df_filtered.drop(columns='Cooling_System_clean')\n",
    "\n",
    "# Display final DataFrame\n",
    "print(df_filtered)"
   ]
  },
  {
   "cell_type": "markdown",
   "metadata": {
    "id": "LzguKp3Rg7Tm"
   },
   "source": [
    "c) From the dataframe below, use groupby in Pandas to show how many total delegates were obtained grouped by state. Print this out."
   ]
  },
  {
   "cell_type": "code",
   "execution_count": 19,
   "metadata": {
    "id": "SBKSw6hsg7Tm"
   },
   "outputs": [
    {
     "data": {
      "text/html": [
       "<div>\n",
       "<style scoped>\n",
       "    .dataframe tbody tr th:only-of-type {\n",
       "        vertical-align: middle;\n",
       "    }\n",
       "\n",
       "    .dataframe tbody tr th {\n",
       "        vertical-align: top;\n",
       "    }\n",
       "\n",
       "    .dataframe thead th {\n",
       "        text-align: right;\n",
       "    }\n",
       "</style>\n",
       "<table border=\"1\" class=\"dataframe\">\n",
       "  <thead>\n",
       "    <tr style=\"text-align: right;\">\n",
       "      <th></th>\n",
       "      <th>name</th>\n",
       "      <th>delegates</th>\n",
       "      <th>color</th>\n",
       "      <th>state</th>\n",
       "    </tr>\n",
       "  </thead>\n",
       "  <tbody>\n",
       "    <tr>\n",
       "      <th>0</th>\n",
       "      <td>marco</td>\n",
       "      <td>165</td>\n",
       "      <td>blue</td>\n",
       "      <td>FL</td>\n",
       "    </tr>\n",
       "    <tr>\n",
       "      <th>1</th>\n",
       "      <td>jeb</td>\n",
       "      <td>35</td>\n",
       "      <td>red</td>\n",
       "      <td>FL</td>\n",
       "    </tr>\n",
       "    <tr>\n",
       "      <th>2</th>\n",
       "      <td>chris</td>\n",
       "      <td>0</td>\n",
       "      <td>white</td>\n",
       "      <td>NY</td>\n",
       "    </tr>\n",
       "    <tr>\n",
       "      <th>3</th>\n",
       "      <td>donald</td>\n",
       "      <td>1543</td>\n",
       "      <td>white</td>\n",
       "      <td>NY</td>\n",
       "    </tr>\n",
       "    <tr>\n",
       "      <th>4</th>\n",
       "      <td>ted</td>\n",
       "      <td>559</td>\n",
       "      <td>blue</td>\n",
       "      <td>NY</td>\n",
       "    </tr>\n",
       "    <tr>\n",
       "      <th>5</th>\n",
       "      <td>john</td>\n",
       "      <td>161</td>\n",
       "      <td>red</td>\n",
       "      <td>OH</td>\n",
       "    </tr>\n",
       "  </tbody>\n",
       "</table>\n",
       "</div>"
      ],
      "text/plain": [
       "     name  delegates  color state\n",
       "0   marco        165   blue    FL\n",
       "1     jeb         35    red    FL\n",
       "2   chris          0  white    NY\n",
       "3  donald       1543  white    NY\n",
       "4     ted        559   blue    NY\n",
       "5    john        161    red    OH"
      ]
     },
     "execution_count": 19,
     "metadata": {},
     "output_type": "execute_result"
    }
   ],
   "source": [
    "import pandas\n",
    "\n",
    "# creating a data frame from scratch - list of lists\n",
    "\n",
    "data = [ ['marco', 165, 'blue', 'FL'], \n",
    "         ['jeb', 35, 'red', 'FL'], \n",
    "         ['chris', 0, 'white', 'NY'], \n",
    "         ['donald', 1543, 'white', 'NY'],\n",
    "         ['ted', 559, 'blue', 'NY'],\n",
    "         ['john', 161, 'red', 'OH']\n",
    "       ]\n",
    "\n",
    "# create a data frame with column names - list of lists\n",
    "\n",
    "col_names = ['name', 'delegates', 'color', 'state']\n",
    "df = pandas.DataFrame(data, columns=col_names)\n",
    "df"
   ]
  },
  {
   "cell_type": "code",
   "execution_count": 20,
   "metadata": {
    "id": "KNNZmJGUg7To"
   },
   "outputs": [
    {
     "name": "stdout",
     "output_type": "stream",
     "text": [
      "  state  delegates\n",
      "0    FL        200\n",
      "1    NY       2102\n",
      "2    OH        161\n"
     ]
    }
   ],
   "source": [
    "# 2c) Your code here\n",
    "\n",
    "# Group by state and sum delegates\n",
    "delegates_by_state = df.groupby('state')['delegates'].sum().reset_index()\n",
    "\n",
    "# Print the result\n",
    "print(delegates_by_state)"
   ]
  },
  {
   "cell_type": "markdown",
   "metadata": {
    "id": "j0vXNb_Yg7Tp"
   },
   "source": [
    "## 3: Bitcoin coding problem (20 points):"
   ]
  },
  {
   "cell_type": "markdown",
   "metadata": {
    "id": "PWU5dtSEg7Tp"
   },
   "source": [
    "#### Bitcoin\n",
    "\n",
    "Consider a record of a one-time investment in bitcoin with value of that investment tracked monthly, provided as an (ordered) tuple of dictionaries, where each dictionary comprises one key for the month and corresponding one value for the value of the investment as of that date. (For example 31 Jan 2018 was $1200 as shown in `data` below).\n",
    "\n",
    "The initial investment is made on 1 Jan 2018 and was for $1000 (labelled 'Initial' in the `data` below).\n",
    "\n",
    "Fill in the Python function (named `bitcoin_invest` below) to take such a record of any length (the below `data` is only a sample but the full data will be in the same format), and return a dataframe comprising a row for each month with columns for date, balance, and return. **Print out/display this dataframe.**\n",
    "\n",
    "Also, visualize the record as two vertically arranged plots (there are a few ways to do this, keep it consistent over both plots). \n",
    "- The top plot should show a line plot of balance vs. month \n",
    "- The bottom plot should show a bar plot of return vs. month, with a black horizontal line at return=0, and bars color-coded such that positive returns are green and negative returns are red.  \n",
    "- The two plots' horizontal axes should align. Demonstrate that your code works by applying it to `data`.\n",
    "\n",
    "Some definitions: <br>\n",
    "- The gain for each period is the end balance minus the start balance. \n",
    "- The growth factor for each period is the end balance divided by the start balance.  \n",
    "- The return for each period is the growth factor minus 1."
   ]
  },
  {
   "cell_type": "code",
   "execution_count": 1,
   "metadata": {
    "id": "nNyReUHXg7Tp"
   },
   "outputs": [
    {
     "data": {
      "text/plain": [
       "({'Initial': 1000},\n",
       " {'Jan 2018': 1200},\n",
       " {'Feb 2018': 1400},\n",
       " {'Mar 2018': 700},\n",
       " {'Apr 2018': 800},\n",
       " {'May 2018': 500})"
      ]
     },
     "execution_count": 1,
     "metadata": {},
     "output_type": "execute_result"
    }
   ],
   "source": [
    "data = ({\"Initial\": 1000}, {\"Jan 2018\":1200},{\"Feb 2018\":1400},{\"Mar 2018\":700},{\"Apr 2018\":800},{\"May 2018\":500})\n",
    "data"
   ]
  },
  {
   "cell_type": "code",
   "execution_count": 6,
   "metadata": {
    "id": "tqPVdbgkg7Tp"
   },
   "outputs": [
    {
     "name": "stdout",
     "output_type": "stream",
     "text": [
      "       date  balance    return\n",
      "0   Initial     1000       NaN\n",
      "1  Jan 2018     1200  0.200000\n",
      "2  Feb 2018     1400  0.166667\n",
      "3  Mar 2018      700 -0.500000\n",
      "4  Apr 2018      800  0.142857\n",
      "5  May 2018      500 -0.375000\n"
     ]
    },
    {
     "data": {
      "image/png": "[encoded data removed]",
      "text/plain": [
       "<Figure size 1000x800 with 2 Axes>"
      ]
     },
     "metadata": {},
     "output_type": "display_data"
    }
   ],
   "source": [
    "# 3) Your code here\n",
    "import pandas as pd\n",
    "import matplotlib.pyplot as plt\n",
    "\n",
    "def bitcoin_invest(monthly_data):\n",
    "    dates = []\n",
    "    balances = []\n",
    "\n",
    "    for record in monthly_data:\n",
    "        for k, v in record.items():\n",
    "            dates.append(k)\n",
    "            balances.append(v)\n",
    "\n",
    "    df = pd.DataFrame({\n",
    "        'date': dates,\n",
    "        'balance': balances\n",
    "    })\n",
    "\n",
    "    # Calculate monthly return\n",
    "    df['return'] = df['balance'].pct_change()\n",
    "    \n",
    "    # Print the dataframe\n",
    "    print(df)\n",
    "\n",
    "    # Plotting\n",
    "    fig, (ax1, ax2) = plt.subplots(nrows=2, figsize=(10, 8), sharex=True)\n",
    "\n",
    "    # Line plot for balance\n",
    "    ax1.plot(df['date'], df['balance'], marker='o', linestyle='-', color='blue')\n",
    "    ax1.set_title('Bitcoin Investment Balance Over Time')\n",
    "    ax1.set_ylabel('Balance ($)')\n",
    "    ax1.grid(True)\n",
    "\n",
    "    # Bar plot for returns\n",
    "    colors = df['return'].apply(lambda x: 'green' if x > 0 else 'red')\n",
    "    ax2.bar(df['date'], df['return'], color=colors)\n",
    "    ax2.axhline(0, color='black', linewidth=1)\n",
    "    ax2.set_title('Monthly Return')\n",
    "    ax2.set_ylabel('Return')\n",
    "    ax2.set_xlabel('Date')\n",
    "    ax2.grid(True)\n",
    "\n",
    "    plt.xticks(rotation=45)\n",
    "    plt.tight_layout()\n",
    "    plt.show()\n",
    "\n",
    "# Example usage\n",
    "data = ({\"Initial\": 1000}, {\"Jan 2018\": 1200}, {\"Feb 2018\": 1400},\n",
    "        {\"Mar 2018\": 700}, {\"Apr 2018\": 800}, {\"May 2018\": 500})\n",
    "\n",
    "bitcoin_invest(data)\n"
   ]
  },
  {
   "cell_type": "markdown",
   "metadata": {
    "id": "qGnnkRF9g7Tq"
   },
   "source": [
    "## 4: Clinical disease data (40 pts)\n",
    "\n",
    "Your boss comes to you Monday morning and says “I figured out our next step; we are going to pivot from an online craft store and become a data center for genetic disease information! I found **ClinVar** which is a repository that contains expert curated data, and it is free for the taking. This is a gold mine! Look at the file and tell me what gene and mutation combinations are classified as dangerous.”\n",
    "\n",
    "Make sure that you only give your boss the dangerous mutations and include:\n",
    "\n",
    "1) Gene name\n",
    "\n",
    "2) Mutation ID number\n",
    "\n",
    "3) Mutation Position (chromosome & position)\n",
    "\n",
    "4) Mutation value (reference & alternate bases)\n",
    "\n",
    "5) Clinical significance (CLNSIG)\n",
    "\n",
    "6) Disease that is implicated\n",
    "\n",
    "**Requirements**\n",
    "\n",
    "1) The deliverables are the final result as a dataframe with a short discussion of any specifics. (that is, what data you would present to your boss with the explanation of your results)\n",
    "\n",
    "2) Limit your output to the first 100 harmful mutations and tell your boss how many total harmful mutations were found in the file\n",
    "\n",
    "3) Use the instructor-modified \"clinvar_final.txt\" at this link: https://drive.google.com/file/d/1Zps0YssoJbZHrn6iLte2RDLlgruhAX1s/view?usp=sharing This file was modified to be not exactly the same as 'standard' .vcf file to test your data parsing skills. **This is a large file so do NOT upload it into your github repo!**\n",
    "\n",
    "4) Replace missing values in the dataframe with: 'Not_Given'. Print or display this (including the Not_Given count) for the column `CLNSIG` by using pandas value_counts() function (https://pandas.pydata.org/docs/reference/api/pandas.Series.value_counts.html).\n",
    "\n",
    "5) State in your answer how you define harmful mutations\n",
    "\n",
    "**6) Do your best on getting to above requirements and submit whatever you do before the deadline. If your work is incomplete be sure to describe the blockers that got in your way and how you might get past them (if given more time).**\n",
    "\n",
    "7) You can use as many code blocks as you need. Please clean-up your code and make it readable for the graders!\n",
    "\n",
    "**Hints** \n",
    "* We do not expect you to have any medical knowledge to solve this problem; look at the data, read the documentation provided, and write down your assumptions!\n",
    "\n",
    "* Correct pseudocode will give you partial credit so start with that. \n",
    "\n",
    "* Map out which fields you want to extract: Are they in the same place every time? What strategy will you use to robustly extract and filter your data of interest? How do you plan to handle missing data?\n",
    "\n",
    "* A good way to start is to print out each line, then practice parsing them to see if you can recover the fields of interest\n",
    "\n",
    "* A starting solution for parsing .vcfs can be found here: https://gist.github.com/dceoy/99d976a2c01e7f0ba1c813778f9db744 This solution does **NOT** work due to the changes we've made but can be modified to work. As with any solution that needs modifications, it may take less time to make your own solution!\n",
    "\n",
    "* Filter out junk and lines with no mutation data. Just focus on the data your need to deliver to your boss. \n",
    "\n",
    "* Pandas and NumPy parsers correctly recognize the end of each line in in the ClinVar file.\n",
    "\n",
    "* The unit of observation of this dataset is one row per mutation.\n",
    "\n",
    "* This is similar to a task that one of us tackled at work. You can answer the question with the information provided below or using the (partial) data dictionary file at this link: https://drive.google.com/file/d/1lx9yHdlcqmU_OlHiTUXKC_LQDqYBypH_/view?usp=sharing. Our goal is to see that you can put together a sensible plan, implement a solid parsing strategy, and document and justify the decisions that you made."
   ]
  },
  {
   "cell_type": "markdown",
   "metadata": {
    "collapsed": true,
    "id": "vxoh6uLEg7Tr"
   },
   "source": [
    "### VCF file description (Summarized from version 4.1)\n",
    "\n",
    "```\n",
    "* The VCF specification:\n",
    "\n",
    "VCF is a text file format which contains meta-information lines, a header line, and then data lines each containing information about a position in the genome. The format also can contain genotype information on samples for each position.\n",
    "\n",
    "* Fixed fields:\n",
    "\n",
    "There are 8 fixed fields per record. All data lines are **tab-delimited**. In all cases, missing values are specified with a dot (‘.’). \n",
    "\n",
    "1. CHROM - chromosome number\n",
    "2. POS - position DNA nuceleotide count (bases) along the chromosome\n",
    "3. ID - The unique identifier for each mutation\n",
    "4. REF - reference base(s)\n",
    "5. ALT - alternate base(s)\n",
    "6. FILTER - filter status\n",
    "7. QUAL - quality\n",
    "8. INFO - a semicolon-separated series of keys with values in the format: <key>=<data>\n",
    "\n",
    "```\n",
    "### Applicable INFO field specifications\n",
    "\n",
    "```\n",
    "GENEINFO = <Gene name>\n",
    "CLNSIG =  <Clinical significance>\n",
    "CLNDN = <Disease name>\n",
    "```\n",
    "\n",
    "### Sample ClinVar data (vcf file format - not exactly the same as the file to download!)\n",
    "\n",
    "```\n",
    "##fileformat=VCFv4.1\n",
    "##fileDate=2019-03-19\n",
    "##source=ClinVar\n",
    "##reference=GRCh38\t\t\t\t\t\t\t\n",
    "#CHROM\tPOS\tID\tREF\tALT\tQUAL\tFILTER\tINFO\n",
    "1\t949523\trs786201005\tC\tT\t.\t.\tGENEINFO=ISG15;CLNSIG=5\n",
    "1\t949696\trs672601345\tC\tCG\t.\t.\tGENEINFO=ISG15;CLNSIG=5;CLNDN=Cancer\n",
    "1\t949739\trs672601312\tG\tT\t.\t.\tGENEINFO=ISG15;CLNDBN=Cancer\n",
    "1\t955597\trs115173026\tG\tT\t.\t.\tGENEINFO=AGRN;CLNSIG=2; CLNDN=Cancer\n",
    "1\t955619\trs201073369\tG\tC\t.\t.\tGENEINFO=AGG;CLNDN=Heart_dis \n",
    "1\t957640\trs6657048\tC\tT\t.\t.\tGENEINFO=AGG;CLNSIG=3;CLNDN=Heart_dis \n",
    "1\t976059\trs544749044\tC\tT\t.\t.\tGENEINFO=AGG;CLNSIG=0;CLNDN=Heart_dis \n",
    "```"
   ]
  },
  {
   "cell_type": "code",
   "execution_count": 13,
   "metadata": {
    "id": "qPhDns3zg7Tr"
   },
   "outputs": [
    {
     "name": "stdout",
     "output_type": "stream",
     "text": [
      "Columns found: ['GENE', 'MUTATION_ID', 'CHROMOSOME', 'POSITION', 'REFERENCE', 'ALTERNATE', 'CLNSIG', 'DISEASE']\n",
      "\n",
      "🧬 First 100 Harmful Mutations:\n",
      "   GENE MUTATION_ID CHROMOSOME POSITION                                                                                                                                                                                                                                                           REFERENCE ALTERNATE            CLNSIG                                                                                                                                                                                                                                                                                                                                                                                                                                                                                                                                      DISEASE\n",
      "  ISG15      183381          1  1014143                                                                                                                                                                                                                                                                   C         T        Pathogenic                                                                                                                                                                                                                                                                                                                                                                                                                                                                                         Immunodeficiency_38_with_basal_ganglia_calcification\n",
      "  ISG15      161455          1  1014316                                                                                                                                                                                                                                                                   C        CG        Pathogenic                                                                                                                                                                                                                                                                                                                                                                                                                                                                                         Immunodeficiency_38_with_basal_ganglia_calcification\n",
      "  ISG15      161454          1  1014359                                                                                                                                                                                                                                                                   G         T        Pathogenic                                                                                                                                                                                                                                                                                                                                                                                                                                                                                         Immunodeficiency_38_with_basal_ganglia_calcification\n",
      "   AGRN      243036          1  1022225                                                                                                                                                                                                                                                                   G         A        Pathogenic                                                                                                                                                                                                                                                                                                                                                                                                                                                                                                               Congenital_myasthenic_syndrome\n",
      "   AGRN      243037          1  1022313                                                                                                                                                                                                                                                                   A         T        Pathogenic                                                                                                                                                                                                                                                                                                                                                                                                                                                                                                               Congenital_myasthenic_syndrome\n",
      "   AGRN      574478          1  1041354                                                                                                                                                                                                                                 CGCCCGCCAGGAGAATGTCTTCAAGAAGTTCGACG         C        Pathogenic                                                                                                                                                                                                                                                                                                                                                                                                                                                                                                           Myasthenic_syndrome,_congenital,_8\n",
      "   AGRN      126556          1  1O41582                                                                                                                                                                                                                                                                   C         T        Pathogenic                                                                                                                                                                                                                                                                                                                                                                                                                                                                            Congenital_myasthenic_syndrome|Myasthenic_syndrome,_congenital,_8\n",
      "   AGRN      243038          1  1042136                                                                                                                                                                                                                                                                   T        TC        Pathogenic                                                                                                                                                                                                                                                                                                                                                                                                                                                                                                               Congenital_myasthenic_syndrome\n",
      "   AGRN      489335          1  1049672                                                                                                                                                                                                                                                                   C         T Likely_pathogenic                                                                                                                                                                                                                                                                                                                                                                                                                                                                                                                                    Not_Given\n",
      "   AGRN      243039          1  1050473                                                                                                                                                                                                                                                                   G         A        Pathogenic                                                                                                                                                                                                                                                                                                                                                                                                                                                                                                               Congenital_myasthenic_syndrome\n",
      "   AGRN       18241          1  1050575                                                                                                                                                                                                                                                                   G         C        Pathogenic                                                                                                                                                                                                                                                                                                                                                                                                                                                                            Congenital_myasthenic_syndrome|Myasthenic_syndrome,_congenital,_8\n",
      "   AGRN      126555          1  1050763                                                                                                                                                                                                                                                                   G         T        Pathogenic                                                                                                                                                                                                                                                                                                                                                                                                                                                                            Congenital_myasthenic_syndrome|Myasthenic_syndrome,_congenital,_8\n",
      "   AGRN      503670          1  1051309                                                                                                                                                                                                                                                                   C        CT Likely_pathogenic                                                                                                                                                                                                                                                                                                                                                                                                                                                                                                                                    Not_Given\n",
      "   AGRN      243040          1  1051775                                                                                                                                                                                                                                                                   G         A        Pathogenic                                                                                                                                                                                                                                                                                                                                                                                                                                                                                                               Congenital_myasthenic_syndrome\n",
      "TNFRSF4       96692          1  1213738                                                                                                                                                                                                                                                                   G         A        Pathogenic                                                                                                                                                                                                                                                                                                                                                                                                                                                                                                                          Immunodeficiency_16\n",
      "B3GALT6       60484          1  1232279                                                                                                                                                                                                                                                                   A         G        Pathogenic                                                                                                                                                                                                                                                                                                                                                                                                                                                                                           Spondyloepimetaphyseal_dysplasia_with_joint_laxity\n",
      "B3GALT6       60493          1  1232294                                                                                                                                                                                                                                                                   C         T        Pathogenic                                                                                                                                                                                                                                                                                                                                                                                                                                                                                                    Ehlers-Danlos_syndrome,_progeroid_type,_2\n",
      "B3GALT6       60488          1  1232471                                                                                                                                                                                                                                                                   A         G        Pathogenic                                                                                                                                                                                                                                                                                                                                                                                                                                                                                           Spondyloepimetaphyseal_dysplasia_with_joint_laxity\n",
      "B3GALT6       60489          1  1232478                                                                                                                                                                                                                                                                   C         T        Pathogenic                                                                                                                                                                                                                                                                                                                                                                                                                                                                                           Spondyloepimetaphyseal_dysplasia_with_joint_laxity\n",
      "B3GALT6      452846          1  1232517                                                                                                                                                                                                                                                                   G         A Likely_pathogenic                                                                                                                                                                                                                                                                                                                                                                                                                                                                                                                                    Not_Given\n",
      "B3GALT6       60497          1  1232594                                                                                                                                                                                                                                             CGGCGCGCCCTGGAGCGGGAGCA         C        Pathogenic                                                                                                                                                                                                                                                                                                                                                                                                                                                                   Spondyloepimetaphyseal_dysplasia_with_joint_laxity,_type_1,_with_fractures\n",
      "B3GALT6       60490          1  1232630                                                                                                                                                                                                                                                                  GA         G        Pathogenic                                                                                                                                                                                                                                                                                                                                                                                                                                                                                                    Ehlers-Danlos_syndrome,_progeroid_type,_2\n",
      "B3GALT6       60494          1  1232684                                                                                                                                                                                                                                                          GTGCTGGCCA         G        Pathogenic                                                                                                                                                                                                                                                                                                                                                                                                                                                                                                    Ehlers-Danlos_syndrome,_progeroid_type,_2\n",
      "B3GALT6       60486          1  1232744                                                                                                                                                                                                                                                                   G         A        Pathogenic                                                                                                                                                                                                                                                                                                                                                                                                                                                                                           Spondyloepimetaphyseal_dysplasia_with_joint_laxity\n",
      "B3GALT6      522415          1  1232834                                                                                                                                                                                                                                                                   T         C        Pathogenic                                                                                                                                                                                                                                                                                                                                                                                                                                                                                           Spondyloepimetaphyseal_dysplasia_with_joint_laxity\n",
      "B3GALT6      427130          1  1232859                                                                                                                                                                                                                                                                   C        CG        Pathogenic                                                                                                                                                                                                                                                                                                                                                                                                                                                                                                                                    Not_Given\n",
      "B3GALT6       60492          1  1232859                                                                                                                                                                                                                                                                  CG         C        Pathogenic                                                                                                                                                                                                                                                                                                                                                                                                                                                                                                    Ehlers-Danlos_syndrome,_progeroid_type,_2\n",
      "B3GALT6       60495          1  1232897                                                                                                                                                                                                                                                                   G         C        Pathogenic                                                                                                                                                                                                                                                                                                                                                                                                                                                                   Spondyloepimetaphyseal_dysplasia_with_joint_laxity,_type_1,_with_fractures\n",
      "B3GALT6       60496          1  1232927                                                                                                                                                                                                                                                                   G         A        Pathogenic                                                                                                                                                                                                                                                                                                                                                                                                                                                                   Spondyloepimetaphyseal_dysplasia_with_joint_laxity,_type_1,_with_fractures\n",
      "B3GALT6       60485          1  1232972                                                                                                                                                                                                                                                                   C         T        Pathogenic                                                                                                                                                                                                                                                                                                                                                                                                                                                                                           Spondyloepimetaphyseal_dysplasia_with_joint_laxity\n",
      "B3GALT6       60487          1  1233177                                                                                                                                                                                                                                                                   G         C        Pathogenic                                                                                                                                                                                                                                                                                                                                                                                                                                                                                           Spondyloepimetaphyseal_dysplasia_with_joint_laxity\n",
      "B3GALT6       60491          1  1233203                                                                                                                                                                                                                                                                   T         A        Pathogenic                                                                                                                                                                                                                                                                                                                                                                                                                                                                                                    Ehlers-Danlos_syndrome,_progeroid_type,_2\n",
      "   DVL1      504195          1  1336498                                                                                                                                                                                                                                                                  AC         A Likely_pathogenic                                                                                                                                                                                                                                                                                                                                                                                                                                                                                                                                    Not_Given\n",
      "   DVL1      524041          1  1337984                                                                                                                                                                                                                                                      CTGCTGACTCCCGG         C Likely_pathogenic                                                                                                                                                                                                                                                                                                                                                                                                                                                                                                                                    Not_Given\n",
      "   DVL1      488046          1  1337992                                                                                                                                                                                                                                                                  TC         T Likely_pathogenic                                                                                                                                                                                                                                                                                                                                                                                                                                                                                                       Robinow_syndrome,_autosomal_dominant_2\n",
      "   DVL1      488048          1  1337992                                                                                                                                                                                                                                                   TCCCGGTGCTGCCGCTG         T Likely_pathogenic                                                                                                                                                                                                                                                                                                                                                                                                                                                                                                       Robinow_syndrome,_autosomal_dominant_2\n",
      "   DVL1      488045          1  1337999                                                                                                                                                                                                                                                                   G    GCTGCC Likely_pathogenic                                                                                                                                                                                                                                                                                                                                                                                                                                                                                                       Robinow_syndrome,_autosomal_dominant_2\n",
      "   DVL1      208047          1  1338000                                                                                                                                                                                                                                                                  CT         C        Pathogenic                                                                                                                                                                                                                                                                                                                                                                                                                                                                                                       Robinow_syndrome,_autosomal_dominant_2\n",
      "   DVL1      208050          1  1338033                                                                                                                                                                                                                                                            TAGGCAGG         C        Pathogenic                                                                                                                                                                                                                                                                                                                                                                                                                                                                                                       Robinow_syndrome,_autosomal_dominant_2\n",
      "   DVL1      208043          1  1338045                                                                                                                                                                                                                                                                  AA         G        Pathogenic                                                                                                                                                                                                                                                                                                                                                                                                                                                                                                       Robinow_syndrome,_autosomal_dominant_2\n",
      "   DVL1      208049          1  1338053                                                                                                                                                                                                                                                                  TG         T        Pathogenic                                                                                                                                                                                                                                                                                                                                                                                                                                                                                                       Robinow_syndrome,_autosomal_dominant_2\n",
      "   DVL1      208048          1  1338086                                                                                                                                                                                                                                                                  AC         A        Pathogenic                                                                                                                                                                                                                                                                                                                                                                                                                                                                                                       Robinow_syndrome,_autosomal_dominant_2\n",
      "   DVL1      219223          1  1338092                                                                                                                                                                                                                                                                  AG         A        Pathogenic                                                                                                                                                                                                                                                                                                                                                                                                                                                                                                       Robinow_syndrome,_autosomal_dominant_2\n",
      "   DVL1      208045          1  1338096                                                                                                                                                                                                                                                                  CA         C        Pathogenic                                                                                                                                                                                                                                                                                                                                                                                                                                                                                                       Robinow_syndrome,_autosomal_dominant_2\n",
      "   DVL1      208044          1  1338098                                                                                                                                                                                                                                                      GGGGGCAGCCGGGT         G        Pathogenic                                                                                                                                                                                                                                                                                                                                                                                                                                                                                                       Robinow_syndrome,_autosomal_dominant_2\n",
      "   DVL1      208046          1  1338107                                                                                                                                                                                                                                                                  CG         C        Pathogenic                                                                                                                                                                                                                                                                                                                                                                                                                                                                                                       Robinow_syndrome,_autosomal_dominant_2\n",
      "   DVL1      488047          1  1338107                                                                                                                                                                                                                                                      CGGGTGGGGCAGCG         C Likely_pathogenic                                                                                                                                                                                                                                                                                                                                                                                                                                                                                                       Robinow_syndrome,_autosomal_dominant_2\n",
      "   DVL1      520999          1  1338111                                                                                                                                                                                                                                                                  TG         T        Pathogenic                                                                                                                                                                                                                                                                                                                                                                                                                                                                                                                      Inborn_genetic_diseases\n",
      "   DVL1      373812          1  1338529                                                                                                                                                                                                                                                                   G GGCATTGGC Likely_pathogenic                                                                                                                                                                                                                                                                                                                                                                                                                                                                                                                                    Not_Given\n",
      "  MXRA8      402162          1  1353913                                                                                                                                                                                                                                                                   A         T Likely_pathogenic                                                                                                                                                                                                                                                                                                                                                                                                                                                                                                              Abnormality_of_brain_morphology\n",
      " ATAD3A      592109          1  1517250                                                                                                                                                                                                                                                                  GC         G Likely_pathogenic                                                                                                                                                                                                                                                                                                                                                                                                                                                                                                                          Harel-Yoon_syndrome\n",
      " ATAD3A      225696          1  1529299                                                                                                                                                                                                                                                                   C         T Likely_pathogenic                                                                                                                                                                                                                                                                                                                                                                                                                                                                                                             Harel-Yoon_syndrome|not_provided\n",
      " ATAD3A      522903          1  1534004                                                                                                                                                                                                                                                                   C         T        Pathogenic                                                                                                                                                                                                                                                                                                                                                                                                                                                                                                                          Harel-Yoon_syndrome\n",
      "TMEM240      161196          1  1535370                                                                                                                                                                                                                                                                   G         A        Pathogenic                                                                                                                                                                                                                                                                                                                                                                                                                                                                                                                    Spinocerebellar_ataxia_21\n",
      "TMEM240      161193          1  1535392                                                                                                                                                                                                                                                                   G         C        Pathogenic                                                                                                                                                                                                                                                                                                                                                                                                                                                                                                                    Spinocerebellar_ataxia_21\n",
      "TMEM240      161194          1  1535616                                                                                                                                                                                                                                                                   G         A        Pathogenic                                                                                                                                                                                                                                                                                                                                                                                                                                                                                                                    Spinocerebellar_ataxia_21\n",
      "TMEM240      523023          1  1535619                                                                                                                                                                                                                                                                   C         T        Pathogenic                                                                                                                                                                                                                                                                                                                                                                                                                                                                                                                    Spinocerebellar_ataxia_21\n",
      "TMEM240      161195          1  1535723                                                                                                                                                                                                                                                                   G         A        Pathogenic                                                                                                                                                                                                                                                                                                                                                                                                                                                                                                                    Spinocerebellar_ataxia_21\n",
      "TMEM240      372833          1  1535766                                                                                                                                                                                                                                                                   C         T Likely_pathogenic                                                                                                                                                                                                                                                                                                                                                                                                                                                                                                                                    Not_Given\n",
      "   GNB1      521025          1  1787340                                                                                                                                                                                                                                                                GATC         G        Pathogenic                                                                                                                                                                                                                                                                                                                                                                                                                                                                                                                      Inborn_genetic_diseases\n",
      "   GNB1      452797          1  1804461                                                                                                                                                                                                                                                                   C         T Likely_pathogenic                                                                                                                                                                                                                                                                                                                                                                                                                                                                                                                                    Not_Given\n",
      "   GNB1      521213          1  1804496                                                                                                                                                                                                                                                                   T         C        Pathogenic                                                                                                                                                                                                                                                                                                                                                                                                                                                                                                                      Inborn_genetic_diseases\n",
      "   GNB1      422536          1  1806476                                                                                                                                                                                                                                                                   T         C Likely_pathogenic                                                                                                                                                                                                                                                                                                                                                                                                                                                                                                                                    Not_Given\n",
      "   GNB1      391609          1  1806503                                                                                                                                                                                                                                                                   A         C        Pathogenic                                                                                                                                                                                                                                                                                                                                                                                                                                                                                                                                    Not_Given\n",
      "   GNB1      208722          1  1806503                                                                                                                                                                                                                                                                   A         G        Pathogenic Neurodevelopmental_Disability|hypotonia|Cleft_palate|Strabismus|Nystagmus|Hypothyroidism|Intellectual_disability|Seizures|Muscular_hypotonia|Global_developmental_delay|Dystonia|Failure_to_thrive|Growth_delay|Developmental_regression|Expressive_language_delay|Limb_hypertonia|Inability_to_walk|Infantile_axial_hypotonia|Multifocal_epileptiform_discharges|EEG_with_generalized_epileptiform_discharges|Upper_limb_hypertonia|Myelodysplastic_syndrome|Inborn_genetic_diseases|Mental_retardation,_autosomal_dominant_42|not_provided\n",
      "   GNB1      224714          1  1806509                                                                                                                                                                                                                                                                   T         C        Pathogenic                                                                                                                                                                                                                                                                 Neurodevelopmental_Disability|hypotonia|Strabismus|Seizures|Muscular_hypotonia|Global_developmental_delay|Growth_delay|Infantile_muscular_hypotonia|EEG_with_generalized_epileptiform_discharges|Feeding_difficulties|Mental_retardation,_autosomal_dominant_42|not_provided\n",
      "   GNB1      431082          1  1806512                                                                                                                                                                                                                                                                   C         G Likely_pathogenic                                                                                                                                                                                                                                                                                                                                                                                                                                                                                                    Mental_retardation,_autosomal_dominant_42\n",
      "   GNB1      224713          1  1806513                                                                                                                                                                                                                                                                   C         T Likely_pathogenic                                                                                                                                                                                                                                                                                                                                                                                                                       Neurodevelopmental_Disability|hypotonia|Seizures|Muscular_hypotonia|Global_developmental_delay|Inborn_genetic_diseases\n",
      "   GNB1      617622          1  1815801                                                                                                                                                                                                                                                                   C         T Likely_pathogenic                                                                                                                                                                                                                                                                                                                                                                                                                                                                                                    Mental_retardation,_autosomal_dominant_42\n",
      "    SKI      224869          1  2228828                                                                                                                                                                                                                                                                   T         G        Pathogenic                                                                                                                                                                                                                                                                                                                                                                                                                                                                                                                 Shprintzen-Goldberg_syndrome\n",
      "    SKI      570752          1  2228834                                                                                                                                                                                                                                                                   A         C Likely_pathogenic                                                                                                                                                                                                                                                                                                                                                                                                                                                                                                                 Shprintzen-Goldberg_syndrome\n",
      "    SKI       37259          1  2228860                                                                                                                                                                                                                                                                   C         G        Pathogenic                                                                                                                                                                                                                                                                                                                                                                                                                                                                                                                 Shprintzen-Goldberg_syndrome\n",
      "    SKI       37262          1  2228866                                                                                                                                                                                                                                                                   G         T        Pathogenic                                                                                                                                                                                                                                                                                                                                                                                                                                                                                         Inborn_genetic_diseases|Shprintzen-Goldberg_syndrome\n",
      "    SKI       37260          1  2228867                                                                                                                                                                                                                                                                   G         A        Pathogenic                                                                                                                                                                                                                                                                                                                                                                                                                                                                                                                 Shprintzen-Goldberg_syndrome\n",
      "    SKI       39783          1  2228867                                                                                                                                                                                                                                                                   G         T        Pathogenic                                                                                                                                                                                                                                                                                                                                                                                                                                                                                                                 Shprintzen-Goldberg_syndrome\n",
      "    SKI       39785          1  2228870                                                                                                                                                                                                                                                                   C         A        Pathogenic                                                                                                                                                                                                                                                                                                                                                                                                                                                                                                                 Shprintzen-Goldberg_syndrome\n",
      "    SKI       37263          1  2229045                                                                                                                                                                                                                                                          GTCCGACCGC         G        Pathogenic                                                                                                                                                                                                                                                                                                                                                                                                                                                                                                                 Shprintzen-Goldberg_syndrome\n",
      "    SKI       39784          1  2229045                                                                                                                                                                                                                                                       GTCCGACCGCTCC         G        Pathogenic                                                                                                                                                                                                                                                                                                                                                                                                                                                                                                                 Shprintzen-Goldberg_syndrome\n",
      "    SKI       37258          1  2229113                                                                                                                                                                                                                                                                   G         A        Pathogenic                                                                                                                                                                                                                                                                                                                                                                                                                                                                                                                 Shprintzen-Goldberg_syndrome\n",
      "    SKI      222819          1  2229118                                                                                                                                                                                                                                                                   G         A Likely_pathogenic                                                                                                                                                                                                                                                                                                                                                                                                                                                                                                                 Shprintzen-Goldberg_syndrome\n",
      "    SKI      213703          1  2229265                                                                                                                                                                                                                                                                  CT        GG Likely_pathogenic                                                                                                                                                                                                                                                                                                                                                                                                                                                                                                                                    Not_Given\n",
      "    SKI      495053          1  2229305                                                                                                                                                                                                                                                                   C         A Likely_pathogenic                                                                                                                                                                                                                                                                                                                                                                                                                                                                                                                Disproportionate_tall_stature\n",
      "    SKI      463409          1  2229401 AGCTCAGCGAGCGCAGCGTCCGCGTGTACCACGAGTGCTTCGGCAAGTGTAAGGGGCTGCTGGTGCCCGAGCTCTACAGCAGCCCGAGCGCCGCCTGCATCCAGTGCCTGGACTGCCGCCTCATGTACCCGCCGCACAAGTTCGTGGTGCACTCGCACAAGGCCCTGGAGAACCGGACCTGCCACTGGGGCTTCGACTCGGCCAACTGGCGGGCCTACATCCTGCTGAGCCAGGATTACACGGGCAAGGAGGAGCAGGC         A        Pathogenic                                                                                                                                                                                                                                                                                                                                                                                                                                                                                                                 Shprintzen-Goldberg_syndrome\n",
      "  PEX10      554342          1  2406483                                                                                                                                                                                                                                                                   C         G Likely_pathogenic                                                                                                                                                                                                                                                                                                                                                                                                                                                                          Peroxisome_biogenesis_disorder_6A|Peroxisome_biogenesis_disorder_6B\n",
      "  PEX10      557020          1  2406483                                                                                                                                                                                                                                                                   C         T Likely_pathogenic                                                                                                                                                                                                                                                                                                                                                                                                                                                                          Peroxisome_biogenesis_disorder_6A|Peroxisome_biogenesis_disorder_6B\n",
      "  PEX10        6771          1  2406526                                                                                                                                                                                                                                                                   G         C        Pathogenic                                                                                                                                                                                                                                                                                                                                                                                                                                                                                                            Peroxisome_biogenesis_disorder_6B\n",
      "  PEX10      197886          1  2406528                                                                                                                                                                                                                                                                   G        GC        Pathogenic                                                                                                                                                                                                                                                                                                                                                                                                                                                                                                                                    Not_Given\n",
      "  PEX10      282334          1  2406561                                                                                                                                                                                                                                                                   C         A        Pathogenic                                                                                                                                                                                                                                                                                                                                                                                                                                                                                                                                    Not_Given\n",
      "  PEX10      555297          1  2406580                                                                                                                                                                                                                                                                  CA         C Likely_pathogenic                                                                                                                                                                                                                                                                                                                                                                                                                                                                          Peroxisome_biogenesis_disorder_6A|Peroxisome_biogenesis_disorder_6B\n",
      "  PEX10      296273          1  2406580                                                                                                                                                                                                                                                                 CAG         C        Pathogenic                                                                                                                                                                                                                                                                                                                                                                             Zellweger_syndrome|Peroxisome_biogenesis_disorders,_Zellweger_syndrome_spectrum|Peroxisome_biogenesis_disorder_6A|Peroxisome_biogenesis_disorder_6B|not_provided\n",
      "  PEX10      553074          1  2406599                                                                                                                                                                                                                                                                 GCT         G Likely_pathogenic                                                                                                                                                                                                                                                                                                                                                                                                                                                                          Peroxisome_biogenesis_disorder_6A|Peroxisome_biogenesis_disorder_6B\n",
      "  PEX10      553702          1  2406606                                                                                                                                                                                                                                                                   C         A Likely_pathogenic                                                                                                                                                                                                                                                                                                                                                                                                                                                                          Peroxisome_biogenesis_disorder_6A|Peroxisome_biogenesis_disorder_6B\n",
      "  PEX10      555007          1  2406718                                                                                                                                                                                                                                                                   A         G Likely_pathogenic                                                                                                                                                                                                                                                                                                                                                                                                                                                                          Peroxisome_biogenesis_disorder_6A|Peroxisome_biogenesis_disorder_6B\n",
      "  PEX10      553321          1  2406718                                                                                                                                                                                                                                                                   A         T Likely_pathogenic                                                                                                                                                                                                                                                                                                                                                                                                                                                                          Peroxisome_biogenesis_disorder_6A|Peroxisome_biogenesis_disorder_6B\n",
      "  PEX10      225040          1  2406719                                                                                                                                                                                                                                                                   C         G        Pathogenic                                                                                                                                                                                                                                                                                                                                                                                                                                                                                                                      Inborn_genetic_diseases\n",
      "  PEX10      550383          1  2406739                                                                                                                                                                                                                                                                 GGT         G Likely_pathogenic                                                                                                                                                                                                                                                                                                                                                                                                                                                                          Peroxisome_biogenesis_disorder_6A|Peroxisome_biogenesis_disorder_6B\n",
      "  PEX10      162435          1  2406766                                                                                                                                                                                                                                                                   G         A        Pathogenic                                                                                                                                                                                                                                                                                                                                                                                                                                                                          Peroxisome_biogenesis_disorder_6A|Peroxisome_biogenesis_disorder_6B\n",
      "  PEX10        6774          1  2406791                                                                                                                                                                                                                                                                   C        CT        Pathogenic                                                                                                                                                                                                                                                                                                                                                                                                     Peroxisome_biogenesis_disorder,_complementation_group_7|Peroxisome_biogenesis_disorder_6A|Peroxisome_biogenesis_disorder_6B|not_provided\n",
      "  PEX10      557464          1  2406792                                                                                                                                                                                                                                                       TGCAGCCCCATGG         T Likely_pathogenic                                                                                                                                                                                                                                                                                                                                                                                                                                                                          Peroxisome_biogenesis_disorder_6A|Peroxisome_biogenesis_disorder_6B\n",
      "  PEX10      551969          1  2406917                                                                                                                                                                                                                                                                 ACT         A Likely_pathogenic                                                                                                                                                                                                                                                                                                                                                                                                                                                                          Peroxisome_biogenesis_disorder_6A|Peroxisome_biogenesis_disorder_6B\n",
      "Total number of harmful mutations found: 18582\n",
      "CLNSIG value counts:\n",
      "CLNSIG\n",
      "Pathogenic           12313\n",
      "Likely_pathogenic     6269\n",
      "Name: count, dtype: int64\n"
     ]
    }
   ],
   "source": [
    "# 4) Your code here - can use as many code blocks as you would like\n",
    "import pandas as pd\n",
    "\n",
    "def parse_clinvar_file(file_path):\n",
    "    # Define harmful CLNSIG values (text-based, based on actual file content)\n",
    "    harmful_clnsig_values = {'Pathogenic', 'Likely_pathogenic'}\n",
    "\n",
    "    harmful_mutations = []\n",
    "\n",
    "    with open(file_path, 'r') as file:\n",
    "        for line in file:\n",
    "            if line.startswith('#'):\n",
    "                continue  # Skip headers and metadata\n",
    "\n",
    "            fields = line.strip().split('\\t')\n",
    "            if len(fields) < 8:\n",
    "                continue  # Skip malformed lines\n",
    "\n",
    "            chrom, pos, mut_id, ref, alt, fltr, qual, info = fields\n",
    "\n",
    "            # Parse INFO field into a dictionary\n",
    "            info_dict = {}\n",
    "            for entry in info.split(';'):\n",
    "                if '=' in entry:\n",
    "                    key, value = entry.split('=', 1)\n",
    "                    info_dict[key.strip()] = value.strip()\n",
    "                else:\n",
    "                    info_dict[entry.strip()] = 'Not_Given'\n",
    "\n",
    "            # Normalize CLNSIG value\n",
    "            clnsig_raw = info_dict.get('CLNSIG', 'Not_Given')\n",
    "            clnsig_clean = clnsig_raw.replace(' ', '_').strip()\n",
    "\n",
    "            # Check if it's a harmful mutation\n",
    "            if clnsig_clean in harmful_clnsig_values:\n",
    "                gene_info = info_dict.get('GENEINFO', 'Not_Given')\n",
    "                gene_name = gene_info.split(':')[0] if gene_info != 'Not_Given' else 'Not_Given'\n",
    "                disease = info_dict.get('CLNDN', 'Not_Given')\n",
    "\n",
    "                harmful_mutations.append({\n",
    "                    'Gene': gene_name,\n",
    "                    'Mutation_ID': mut_id,\n",
    "                    'Chromosome': chrom,\n",
    "                    'Position': pos,\n",
    "                    'Reference': ref,\n",
    "                    'Alternate': alt,\n",
    "                    'CLNSIG': clnsig_clean,\n",
    "                    'Disease': disease\n",
    "                })\n",
    "\n",
    "    # Create DataFrame\n",
    "    df = pd.DataFrame(harmful_mutations)\n",
    "\n",
    "    # Normalize column names\n",
    "    df.columns = df.columns.astype(str).str.strip().str.upper()\n",
    "\n",
    "    # Replace any remaining missing values with 'Not_Given'\n",
    "    df.fillna('Not_Given', inplace=True)\n",
    "\n",
    "    return df\n",
    "\n",
    "# === Main Execution ===\n",
    "\n",
    "# Set path to file (make sure this matches your environment)\n",
    "file_path = 'clinvar_final.txt'\n",
    "\n",
    "# Parse the file\n",
    "harmful_df = parse_clinvar_file(file_path)\n",
    "\n",
    "# Print column names to confirm\n",
    "print(\"Columns found:\", harmful_df.columns.tolist())\n",
    "\n",
    "# Display the first 100 harmful mutations\n",
    "print(\"\\n🧬 First 100 Harmful Mutations:\")\n",
    "print(harmful_df.head(100).to_string(index=False))\n",
    "\n",
    "# Total harmful mutations\n",
    "total_harmful = len(harmful_df)\n",
    "print(f\"Total number of harmful mutations found: {total_harmful}\")\n",
    "\n",
    "# CLNSIG value counts\n",
    "print(\"CLNSIG value counts:\")\n",
    "if 'CLNSIG' in harmful_df.columns:\n",
    "    print(harmful_df['CLNSIG'].value_counts(dropna=False))\n",
    "else:\n",
    "    print(\"❌ 'CLNSIG' column not found.\")\n",
    "\n",
    "\n"
   ]
  },
  {
   "cell_type": "markdown",
   "metadata": {
    "id": "QvWAQKYag7Tr"
   },
   "source": [
    "4) Please Write your assumptions here:"
   ]
  },
  {
   "cell_type": "markdown",
   "metadata": {
    "id": "_r9uXf94g7Ts"
   },
   "source": [
    "4) Findings / What would you present to your boss?"
   ]
  }
 ],
 "metadata": {
  "colab": {
   "provenance": []
  },
  "kernelspec": {
   "display_name": "Python 3",
   "language": "python",
   "name": "python3"
  },
  "language_info": {
   "codemirror_mode": {
    "name": "ipython",
    "version": 3
   },
   "file_extension": ".py",
   "mimetype": "text/x-python",
   "name": "python",
   "nbconvert_exporter": "python",
   "pygments_lexer": "ipython3",
   "version": "3.12.1"
  }
 },
 "nbformat": 4,
 "nbformat_minor": 0
}
